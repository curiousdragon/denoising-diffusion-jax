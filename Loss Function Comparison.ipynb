{
 "cells": [
  {
   "cell_type": "code",
   "execution_count": 3,
   "id": "6c50e400",
   "metadata": {},
   "outputs": [],
   "source": [
    "import jax.numpy as jnp\n",
    "from jax import random\n",
    "from jax import jit"
   ]
  },
  {
   "cell_type": "code",
   "execution_count": 35,
   "id": "41fe9dd4",
   "metadata": {},
   "outputs": [],
   "source": [
    "key  = random.PRNGKey(758493)\n",
    "def mean_loss(sigma_t, alpha_ts, mu_pred, x_0, x_t):\n",
    "    error = 0\n",
    "    # BEGIN SOLUTION\n",
    "    alpha_bar_t = jnp.prod(alpha_ts)\n",
    "    alpha_t = alpha_ts[-1]\n",
    "    beta_t = 1 - alpha_t\n",
    "    alpha_bar_t_minus_1 = alpha_bar_t / alpha_t\n",
    "    mu_calc = (((alpha_bar_t_minus_1)**0.5)*beta_t/(1 - alpha_bar_t))*x_0 + ((alpha_t**0.5)*(1 - alpha_bar_t_minus_1)/(1 - alpha_bar_t))*x_t\n",
    "    norm_diff = jnp.linalg.norm(mu_pred - mu_calc)\n",
    "    error = (1 / (2*sigma_t**2))*norm_diff**2\n",
    "    # END SOLUTION\n",
    "    return error\n",
    "    \n",
    "def noise_loss(sigma_t, alpha_ts, eps_pred, x_0, x_t):\n",
    "    error = 0\n",
    "    # BEGIN SOLUTION\n",
    "    alpha_bar_t = jnp.prod(alpha_ts)\n",
    "    alpha_t = alpha_ts[-1]\n",
    "    beta_t = 1 - alpha_t\n",
    "    coeff = (beta_t**2) / (2 * sigma_t**2 * alpha_t * (1 - alpha_bar_t))\n",
    "    D = len(eps_pred)\n",
    "    eps = random.normal(key, (D,))\n",
    "    norm_diff = jnp.linalg.norm(eps - eps_pred)\n",
    "    error = coeff * norm_diff **2\n",
    "    # END SOLUTION\n",
    "    return error "
   ]
  },
  {
   "cell_type": "code",
   "execution_count": 32,
   "id": "6d43fad8",
   "metadata": {},
   "outputs": [],
   "source": [
    "sigma_t = 5\n",
    "alpha_ts = jnp.array([0.5, 0.5])\n",
    "mu_pred = jnp.array([0.5, 0.5])\n",
    "x_0 = jnp.array([0.2, 0.2])\n",
    "x_t = jnp.array([0.2, 0.2])"
   ]
  },
  {
   "cell_type": "code",
   "execution_count": 33,
   "id": "62e03d36",
   "metadata": {},
   "outputs": [
    {
     "name": "stdout",
     "output_type": "stream",
     "text": [
      "0.00387975\n"
     ]
    }
   ],
   "source": [
    "print(mean_loss(sigma_t, alpha_ts, mu_pred, x_0, x_t))"
   ]
  },
  {
   "cell_type": "code",
   "execution_count": 34,
   "id": "a6202ee6",
   "metadata": {},
   "outputs": [
    {
     "name": "stdout",
     "output_type": "stream",
     "text": [
      "0.008128801\n"
     ]
    }
   ],
   "source": [
    "print(noise_loss(sigma_t, alpha_ts, mu_pred, x_0, x_t))"
   ]
  },
  {
   "cell_type": "code",
   "execution_count": null,
   "id": "14f0dacd",
   "metadata": {},
   "outputs": [],
   "source": [
    "for D in range(2, 1000, 10):\n",
    "    sigma_t = random.uniform(key)\n",
    "    # alpha_ts = jnp.array([0.5, 0.5])\n",
    "    # mu_pred = jnp.array([0.5, 0.5])\n",
    "    # x_0 = jnp.array([0.2, 0.2])\n",
    "    # x_t = jnp.array([0.2, 0.2])\n",
    "    alpha_ts = random.uniform(key, (D,))\n",
    "    mu_pred = random.uniform(key, (D,))\n",
    "    x_0 = random.uniform(key, (D,))\n",
    "    x_t = random.uniform(key, (D,))\n",
    "    print(\"Mean Loss, D = \" + str(D))\n",
    "    %time mean_loss(sigma_t, alpha_ts, mu_pred, x_0, x_t)\n",
    "    print(\"Noise Loss, D = \" + str(D))\n",
    "    %time noise_loss(sigma_t, alpha_ts, mu_pred, x_0, x_t)\n",
    "    print(\"\\n\")"
   ]
  },
  {
   "cell_type": "code",
   "execution_count": null,
   "id": "30c426ed",
   "metadata": {},
   "outputs": [],
   "source": []
  }
 ],
 "metadata": {
  "kernelspec": {
   "display_name": "Python 3 (ipykernel)",
   "language": "python",
   "name": "python3"
  },
  "language_info": {
   "codemirror_mode": {
    "name": "ipython",
    "version": 3
   },
   "file_extension": ".py",
   "mimetype": "text/x-python",
   "name": "python",
   "nbconvert_exporter": "python",
   "pygments_lexer": "ipython3",
   "version": "3.10.8"
  }
 },
 "nbformat": 4,
 "nbformat_minor": 5
}
