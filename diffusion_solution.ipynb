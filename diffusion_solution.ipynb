{
 "cells": [
  {
   "cell_type": "markdown",
   "metadata": {},
   "source": [
    "# Visualizing Diffusion\n",
    "\n",
    "## Introduction\n",
    "\n",
    "One of the key ideas of diffusion models is the forward diffusion process involved.\n",
    "By adding Gaussian noise to an input over a series of timesteps,\n",
    "we're able to move the initial image to a latent space that approaches a Gaussian distribution.\n",
    "\n",
    "In this notebook, we'll be seeing the effects of different choices of variance schedules.\n",
    "The variance schedule will determine the variances of the noise we're adding to the image over time.\n",
    "What happens when we choose the variance to be higher? What about lower?\n",
    "\n",
    "We'll be exploring the effects of these choices by visualizing the state over the diffusion process,\n",
    "and hopefully get a sense for how they relate to the rate at which this movement from\n",
    "the original image / distribution to the latent Gaussian distribution occurs."
   ]
  },
  {
   "attachments": {},
   "cell_type": "markdown",
   "metadata": {},
   "source": [
    "## Library imports\n",
    "\n",
    "Before you begin, you'll need to set up your environment.\n",
    "\n",
    "### If you're running locally:\n",
    "\n",
    "To set up a new environment that contains the necessary libraries,\n",
    "you can run the startup script by running `bash startup.sh`.\n",
    "\n",
    "Double check that you are now in the `env-proj` conda environment that was created.\n",
    "If not, run `conda activate env-proj` in your terminal.\n",
    "\n",
    "### If you're running on Colab\n",
    "\n",
    "Please change the following cell from `%matplotlib widget` to `%matplotlib inline`.\n",
    "since Colab does not currently seem to support `ipympl` or `widget` out of the box.\n",
    "(It may be able to support the `widget` mode but more setup for that may be required.)\n",
    "\n",
    "### Double check\n",
    "\n",
    "Make sure that the following libraries have been installed."
   ]
  },
  {
   "cell_type": "code",
   "execution_count": 1,
   "metadata": {},
   "outputs": [],
   "source": [
    "%matplotlib widget\n",
    "import matplotlib.pyplot as plt\n",
    "from typing import List"
   ]
  },
  {
   "cell_type": "code",
   "execution_count": 2,
   "metadata": {},
   "outputs": [],
   "source": [
    "import jax.numpy as jnp\n",
    "from jax import jit, random, Array\n",
    "from jax.config import config\n",
    "config.update(\"jax_debug_nans\", True)\n",
    "config.update(\"jax_array\", True)"
   ]
  },
  {
   "cell_type": "markdown",
   "metadata": {},
   "source": [
    "## Part A: Mean and Covariance of Diffusion\n",
    "\n",
    "Implement the forward diffusion process according to the formulas specified in problem (1) of the homework, specifically the mean and covariance of the forward process posterior Normal distribution. \n",
    "Run the cells immediately following to test your implementation.\n",
    "\n",
    "**Note:**\n",
    "If you run into issues or errors that mention `jit`,\n",
    "feel free to comment out the `@jit` decorator at the top of the functions.\n",
    "The `@jit` decorator is not needed for correctness, but may help speed up the code."
   ]
  },
  {
   "cell_type": "code",
   "execution_count": 3,
   "metadata": {},
   "outputs": [],
   "source": [
    "def compute_mean(x: Array, var: Array) -> Array:\n",
    "    # BEGIN SOLUTION\n",
    "    mean = jnp.dot(jnp.sqrt(1 - var), x)\n",
    "    # END SOLUTION\n",
    "    return mean\n",
    "\n",
    "def compute_cov(x: Array, var: Array) -> Array:\n",
    "    n = x.shape[0]\n",
    "    # BEGIN SOLUTION\n",
    "    cov = jnp.dot(var, jnp.eye(n))\n",
    "    # END SOLUTION\n",
    "    return cov"
   ]
  },
  {
   "cell_type": "markdown",
   "metadata": {},
   "source": [
    "### Test your implementation\n",
    "\n",
    "The following cells will test your implementation of the mean and covariance functions.\n",
    "While there may be slight differences due to floating point accuracy,\n",
    "your implementation should fall within the allowed error range."
   ]
  },
  {
   "cell_type": "code",
   "execution_count": 4,
   "metadata": {},
   "outputs": [
    {
     "name": "stdout",
     "output_type": "stream",
     "text": [
      "Diffusion mean: Average difference between expected and actual: 7.450580152834618e-10\n",
      "Diffusion mean: Result vs threshold: 7.450580152834618e-10 < 1e-05\n",
      "Diffusion mean test passed! :)\n",
      "\n",
      "Diffusion covariance: Average difference between expected and actual: 0.0\n",
      "Diffusion covariance: Result vs threshold: 0.0 < 1e-05\n",
      "Diffusion covariance test passed! :)\n",
      "\n"
     ]
    }
   ],
   "source": [
    "from test_cases import run_diffusion_mean_tests, run_diffusion_cov_tests\n",
    "run_diffusion_mean_tests(compute_mean)\n",
    "run_diffusion_cov_tests(compute_cov)"
   ]
  },
  {
   "cell_type": "markdown",
   "metadata": {},
   "source": [
    "## Visualizing states over time\n",
    "\n",
    "Now that we've verified the correctness of the calculated mean and covariance,\n",
    "let's visualize how the states get diffused over time.\n",
    "\n",
    "First, we'll want to set up the diffusion process by sampling from the multivariate\n",
    "Gaussian normal that is characterized by our mean and covariance functions,\n",
    "where we call `diffuse` to diffuse the state over a single timestep.\n",
    "We will then want to repeat this over the length of the variance schedule,\n",
    "as seen in `diffuse_over_time`."
   ]
  },
  {
   "cell_type": "code",
   "execution_count": 5,
   "metadata": {},
   "outputs": [],
   "source": [
    "@jit\n",
    "def diffuse(key, x: Array, var: Array) -> Array:\n",
    "    \"\"\"\n",
    "    Given (flattened) x, sample x diffused with Gaussian noise\n",
    "    according to the variance schedule.\n",
    "    \"\"\"\n",
    "    mean = compute_mean(x, var)\n",
    "    cov = compute_cov(x, var)\n",
    "    return random.multivariate_normal(key, mean, cov)\n",
    "\n",
    "@jit\n",
    "def diffuse_over_time(key, x: Array, var_schedule: Array) -> List[Array]:\n",
    "    states = [x]\n",
    "    shape = x.shape\n",
    "    x = x.flatten()\n",
    "    for t in jnp.arange(var_schedule.shape[0]):\n",
    "        key, subkey = random.split(key)\n",
    "        x = diffuse(subkey, x, var_schedule[t])\n",
    "        states.append(x.reshape(shape))\n",
    "    return states\n"
   ]
  },
  {
   "cell_type": "markdown",
   "metadata": {},
   "source": [
    "With these functions defined, we can now visualize how the identity matrix gets diffused over time,\n",
    "according to each variance schedule."
   ]
  },
  {
   "cell_type": "code",
   "execution_count": 6,
   "metadata": {},
   "outputs": [],
   "source": [
    "from utils import show_plots"
   ]
  },
  {
   "cell_type": "code",
   "execution_count": 7,
   "metadata": {},
   "outputs": [
    {
     "data": {
      "application/vnd.jupyter.widget-view+json": {
       "model_id": "f2d65952e21d4ae79db8d1498895a0a3",
       "version_major": 2,
       "version_minor": 0
      },
      "image/png": "[encoded data removed]",
      "text/html": [
       "\n",
       "            <div style=\"display: inline-block;\">\n",
       "                <div class=\"jupyter-widgets widget-label\" style=\"text-align: center;\">\n",
       "                    Figure\n",
       "                </div>\n",
       "                <img src='data:image/png;base64,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' width=900.0/>\n",
       "            </div>\n",
       "        "
      ],
      "text/plain": [
       "Canvas(toolbar=Toolbar(toolitems=[('Home', 'Reset original view', 'home', 'home'), ('Back', 'Back to previous …"
      ]
     },
     "metadata": {},
     "output_type": "display_data"
    },
    {
     "data": {
      "application/vnd.jupyter.widget-view+json": {
       "model_id": "76b80c2835114338b5a57ff7b764e917",
       "version_major": 2,
       "version_minor": 0
      },
      "image/png": "[encoded data removed]",
      "text/html": [
       "\n",
       "            <div style=\"display: inline-block;\">\n",
       "                <div class=\"jupyter-widgets widget-label\" style=\"text-align: center;\">\n",
       "                    Figure\n",
       "                </div>\n",
       "                <img src='data:image/png;base64,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' width=900.0/>\n",
       "            </div>\n",
       "        "
      ],
      "text/plain": [
       "Canvas(toolbar=Toolbar(toolitems=[('Home', 'Reset original view', 'home', 'home'), ('Back', 'Back to previous …"
      ]
     },
     "metadata": {},
     "output_type": "display_data"
    },
    {
     "data": {
      "application/vnd.jupyter.widget-view+json": {
       "model_id": "5b109e09e465407e8f34e0ba19418878",
       "version_major": 2,
       "version_minor": 0
      },
      "image/png": "[encoded data removed]",
      "text/html": [
       "\n",
       "            <div style=\"display: inline-block;\">\n",
       "                <div class=\"jupyter-widgets widget-label\" style=\"text-align: center;\">\n",
       "                    Figure\n",
       "                </div>\n",
       "                <img src='data:image/png;base64,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' width=900.0/>\n",
       "            </div>\n",
       "        "
      ],
      "text/plain": [
       "Canvas(toolbar=Toolbar(toolitems=[('Home', 'Reset original view', 'home', 'home'), ('Back', 'Back to previous …"
      ]
     },
     "metadata": {},
     "output_type": "display_data"
    },
    {
     "data": {
      "application/vnd.jupyter.widget-view+json": {
       "model_id": "b8922d60a26f47b39aa6d5186db1169f",
       "version_major": 2,
       "version_minor": 0
      },
      "image/png": "[encoded data removed]",
      "text/html": [
       "\n",
       "            <div style=\"display: inline-block;\">\n",
       "                <div class=\"jupyter-widgets widget-label\" style=\"text-align: center;\">\n",
       "                    Figure\n",
       "                </div>\n",
       "                <img src='data:image/png;base64,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' width=900.0/>\n",
       "            </div>\n",
       "        "
      ],
      "text/plain": [
       "Canvas(toolbar=Toolbar(toolitems=[('Home', 'Reset original view', 'home', 'home'), ('Back', 'Back to previous …"
      ]
     },
     "metadata": {},
     "output_type": "display_data"
    }
   ],
   "source": [
    "x = jnp.eye(3)\n",
    "\n",
    "var_schedules = [\n",
    "    jnp.array([0.01, 0.01, 0.01]),\n",
    "    jnp.array([0.1, 0.2, 0.5]),\n",
    "    jnp.array([0.5, 0.2, 0.1]),\n",
    "    jnp.array([0.99, 0.99, 0.99]),\n",
    "]\n",
    "\n",
    "key = random.PRNGKey(0)\n",
    "for var_schedule in var_schedules:\n",
    "    states = diffuse_over_time(key, x, var_schedule)\n",
    "    show_plots(states)"
   ]
  },
  {
   "cell_type": "markdown",
   "metadata": {},
   "source": [
    "Now, can you come up with an interesting input `x` and one or more interesting variance schedules?\n",
    "**Define your input and add variance schedules below.**\n",
    "\n",
    "You can then run the cell to visualize your input being diffused\n",
    "according to the variance schedules you proposed.\n",
    "\n",
    "What kind of observations do you have?\n",
    "What happens when you make the variances very high?\n",
    "How about very low?\n",
    "What if you alternate?\n",
    "Can you still see traces of the original input's patterns in the final diffused state?\n",
    "What about in the intermediate diffused states?"
   ]
  },
  {
   "cell_type": "code",
   "execution_count": 8,
   "metadata": {},
   "outputs": [
    {
     "data": {
      "application/vnd.jupyter.widget-view+json": {
       "model_id": "2ee8be8bd51645e1b0dddbcd8e8e89b6",
       "version_major": 2,
       "version_minor": 0
      },
      "image/png": "[encoded data removed]",
      "text/html": [
       "\n",
       "            <div style=\"display: inline-block;\">\n",
       "                <div class=\"jupyter-widgets widget-label\" style=\"text-align: center;\">\n",
       "                    Figure\n",
       "                </div>\n",
       "                <img src='data:image/png;base64,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' width=900.0/>\n",
       "            </div>\n",
       "        "
      ],
      "text/plain": [
       "Canvas(toolbar=Toolbar(toolitems=[('Home', 'Reset original view', 'home', 'home'), ('Back', 'Back to previous …"
      ]
     },
     "metadata": {},
     "output_type": "display_data"
    }
   ],
   "source": [
    "# BEGIN SOLUTION\n",
    "x = jnp.array([\n",
    "    [1.0, 0.0, 0.0],\n",
    "    [0.0, 0.0, 0.0],\n",
    "    [0.0, 0.0, 0.0]])\n",
    "# END SOLUTION\n",
    "\n",
    "var_schedules = [\n",
    "    # BEGIN SOLUTION\n",
    "    jnp.array([0.1, 0.99, 0.1])\n",
    "    # END SOLUTION\n",
    "]\n",
    "\n",
    "key = random.PRNGKey(1)\n",
    "for var_schedule in var_schedules:\n",
    "    states = diffuse_over_time(key, x, var_schedule)\n",
    "    show_plots(states)"
   ]
  },
  {
   "cell_type": "markdown",
   "metadata": {},
   "source": [
    "## (Optional) Comparing the JIT and non-JIT versions of the diffusion process\n",
    "\n",
    "You may have noticed the `@jit` decorator above the `diffuse` function earlier in this notebook.\n",
    "`jax` provides `jit` as a way to speed up user-defined functions.\n",
    "Here, we'll be comparing the performance of `diffuse` and its non-JIT version `diffuse_nojit`.\n",
    "\n",
    "Run the following cell to see the difference in speed between `diffuse`\n",
    "(that has been sped up by `jit`) and `diffuse_nojit` which has not had that speedup."
   ]
  },
  {
   "cell_type": "code",
   "execution_count": 9,
   "metadata": {},
   "outputs": [
    {
     "name": "stdout",
     "output_type": "stream",
     "text": [
      "Timing for JIT diffuse:\n",
      "78.5 µs ± 2.96 µs per loop (mean ± std. dev. of 7 runs, 10,000 loops each)\n",
      "Timing for non-JIT diffuse:\n",
      "542 µs ± 21.9 µs per loop (mean ± std. dev. of 7 runs, 1,000 loops each)\n"
     ]
    }
   ],
   "source": [
    "# An interesting comparison in timing between\n",
    "# non-JIT and JIT versions of the diffuse function\n",
    "\n",
    "def diffuse_nojit(key, x, var):\n",
    "    \"\"\"\n",
    "    Given (flattened) x, sample x diffused with Gaussian noise\n",
    "    according to the variance schedule.\n",
    "    \"\"\"\n",
    "    # BEGIN SOLUTION\n",
    "    mean = jnp.dot(jnp.sqrt(1 - var), x)\n",
    "    cov = jnp.dot(var, jnp.eye(x.shape[0]))\n",
    "    return random.multivariate_normal(key, mean, cov)\n",
    "    # END SOLUTION\n",
    "\n",
    "key = random.PRNGKey(0)\n",
    "x = jnp.eye(3).flatten()\n",
    "\n",
    "print(\"Timing for JIT diffuse:\")\n",
    "%timeit diffuse(key, x, 0.01)\n",
    "\n",
    "print(\"Timing for non-JIT diffuse:\")\n",
    "%timeit diffuse_nojit(key, x, 0.01)"
   ]
  }
 ],
 "metadata": {
  "kernelspec": {
   "display_name": "Python 3.11.0 ('env-proj')",
   "language": "python",
   "name": "python3"
  },
  "language_info": {
   "codemirror_mode": {
    "name": "ipython",
    "version": 3
   },
   "file_extension": ".py",
   "mimetype": "text/x-python",
   "name": "python",
   "nbconvert_exporter": "python",
   "pygments_lexer": "ipython3",
   "version": "3.11.0"
  },
  "vscode": {
   "interpreter": {
    "hash": "74da0d11463147640a4316afec5e99a6a6eb153ba7d9ca6562a169804ac9f9ad"
   }
  }
 },
 "nbformat": 4,
 "nbformat_minor": 2
}
