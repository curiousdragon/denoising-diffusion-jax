{
 "cells": [
  {
   "cell_type": "markdown",
   "id": "5c3936ef",
   "metadata": {},
   "source": [
    "# Introduction\n",
    "While the mean loss and the noise loss functions should in theory optimize to the same parameters in the diffusion network, in practice, it's important to consider the advantages and drawbacks of these functions like computational cost, accuracy, etc. In this problem, we explore the computational costs of the mean loss and the noise loss. "
   ]
  },
  {
   "cell_type": "markdown",
   "id": "464eda12",
   "metadata": {},
   "source": [
    "# Library imports\n",
    "Before you begin, make sure you have the following libraries installed."
   ]
  },
  {
   "cell_type": "code",
   "execution_count": 1,
   "id": "9d046225",
   "metadata": {},
   "outputs": [],
   "source": [
    "import jax.numpy as jnp\n",
    "from jax import random"
   ]
  },
  {
   "cell_type": "markdown",
   "id": "e9e08193",
   "metadata": {},
   "source": [
    "# Part A: Implementing the Loss Functions\n",
    "Implement the mean and noise loss functions as specified in the homework."
   ]
  },
  {
   "cell_type": "code",
   "execution_count": 2,
   "id": "41fe9dd4",
   "metadata": {},
   "outputs": [],
   "source": [
    "def mean_loss(sigma_t, alpha_ts, mu_pred, x_0, x_t):\n",
    "    error = 0\n",
    "    # BEGIN SOLUTION\n",
    "    alpha_bar_t = jnp.prod(alpha_ts)\n",
    "    alpha_t = alpha_ts[-1]\n",
    "    beta_t = 1 - alpha_t\n",
    "    alpha_bar_t_minus_1 = alpha_bar_t / alpha_t\n",
    "    mu_calc = (((alpha_bar_t_minus_1) ** 0.5) * beta_t / (1 - alpha_bar_t)) * x_0 + (\n",
    "        (alpha_t**0.5) * (1 - alpha_bar_t_minus_1) / (1 - alpha_bar_t)\n",
    "    ) * x_t\n",
    "    norm_diff = jnp.linalg.norm(mu_pred - mu_calc)\n",
    "    error = (1 / (2 * sigma_t**2)) * norm_diff**2\n",
    "    # END SOLUTION\n",
    "    return error\n",
    "\n",
    "\n",
    "def noise_loss(sigma_t, alpha_ts, eps_pred, x_0, x_t, eps):\n",
    "    error = 0\n",
    "    # BEGIN SOLUTION\n",
    "    alpha_bar_t = jnp.prod(alpha_ts)\n",
    "    alpha_t = alpha_ts[-1]\n",
    "    beta_t = 1 - alpha_t\n",
    "    coeff = (beta_t**2) / (2 * sigma_t**2 * alpha_t * (1 - alpha_bar_t))\n",
    "    D = len(eps_pred)\n",
    "    norm_diff = jnp.linalg.norm(eps - eps_pred)\n",
    "    error = coeff * norm_diff**2\n",
    "    # END SOLUTION\n",
    "    return error\n"
   ]
  },
  {
   "cell_type": "markdown",
   "id": "9decd269",
   "metadata": {},
   "source": [
    "## Sanity Check\n",
    "Run the cell below to test the correctness of your solution."
   ]
  },
  {
   "cell_type": "code",
   "execution_count": 3,
   "id": "909c07db",
   "metadata": {},
   "outputs": [
    {
     "name": "stdout",
     "output_type": "stream",
     "text": [
      "Mean loss: Average difference between expected and actual: 2.8610230629055877e-07\n",
      "Mean loss: Result vs threshold: 2.8610230629055877e-07 < 1e-05\n",
      "Mean loss test passed! :)\n",
      "\n",
      "Noise loss: Average difference between expected and actual: 7.450580707946131e-10\n",
      "Noise loss: Result vs threshold: 7.450580707946131e-10 < 1e-05\n",
      "Noise loss test passed! :)\n",
      "\n"
     ]
    }
   ],
   "source": [
    "from test_cases import run_mean_loss_tests, run_noise_loss_tests\n",
    "run_mean_loss_tests(mean_loss)\n",
    "run_noise_loss_tests(noise_loss)"
   ]
  },
  {
   "cell_type": "markdown",
   "id": "b916c24c",
   "metadata": {},
   "source": [
    "# Part B: Comparing the Speeds of the Loss Functions\n",
    "After you've implemented the two loss functions, run the cell below."
   ]
  },
  {
   "cell_type": "code",
   "execution_count": 4,
   "id": "14f0dacd",
   "metadata": {
    "scrolled": true
   },
   "outputs": [
    {
     "name": "stdout",
     "output_type": "stream",
     "text": [
      "Mean Loss, D = 2\n",
      "CPU times: user 60.8 ms, sys: 1.1 ms, total: 61.9 ms\n",
      "Wall time: 63 ms\n",
      "Noise Loss, D = 2\n",
      "CPU times: user 556 µs, sys: 0 ns, total: 556 µs\n",
      "Wall time: 559 µs\n",
      "\n",
      "\n",
      "Mean Loss, D = 202\n",
      "CPU times: user 62.8 ms, sys: 2.17 ms, total: 65 ms\n",
      "Wall time: 71.8 ms\n",
      "Noise Loss, D = 202\n",
      "CPU times: user 643 µs, sys: 8 µs, total: 651 µs\n",
      "Wall time: 661 µs\n",
      "\n",
      "\n",
      "Mean Loss, D = 402\n",
      "CPU times: user 67.7 ms, sys: 2.27 ms, total: 69.9 ms\n",
      "Wall time: 77.5 ms\n",
      "Noise Loss, D = 402\n",
      "CPU times: user 937 µs, sys: 29 µs, total: 966 µs\n",
      "Wall time: 1.04 ms\n",
      "\n",
      "\n",
      "Mean Loss, D = 602\n",
      "CPU times: user 56.3 ms, sys: 1.3 ms, total: 57.6 ms\n",
      "Wall time: 57.9 ms\n",
      "Noise Loss, D = 602\n",
      "CPU times: user 627 µs, sys: 3 µs, total: 630 µs\n",
      "Wall time: 635 µs\n",
      "\n",
      "\n",
      "Mean Loss, D = 802\n",
      "CPU times: user 58.2 ms, sys: 1.64 ms, total: 59.8 ms\n",
      "Wall time: 61.2 ms\n",
      "Noise Loss, D = 802\n",
      "CPU times: user 599 µs, sys: 2 µs, total: 601 µs\n",
      "Wall time: 603 µs\n",
      "\n",
      "\n"
     ]
    }
   ],
   "source": [
    "seed = 0\n",
    "for D in range(2, 1000, 200):\n",
    "    key = random.PRNGKey(seed)\n",
    "    s_key, a_key, mu_key, e0_key, e1_key, x0_key, xt_key = random.split(key, num=7)\n",
    "    sigma_t = random.uniform(s_key)\n",
    "    alpha_ts = random.uniform(a_key, (D,))\n",
    "    mu_pred = random.uniform(mu_key, (D,))\n",
    "    eps_pred = random.uniform(e0_key, (D,))\n",
    "    eps = random.uniform(e1_key, (D,))\n",
    "    x_0 = random.uniform(x0_key, (D,))\n",
    "    x_t = random.uniform(xt_key, (D,))\n",
    "    print(\"Mean Loss, D = \" + str(D))\n",
    "    %time mean_loss(sigma_t, alpha_ts, mu_pred, x_0, x_t)\n",
    "    print(\"Noise Loss, D = \" + str(D))\n",
    "    %time noise_loss(sigma_t, alpha_ts, eps_pred, x_0, x_t, eps)\n",
    "    print(\"\\n\")\n",
    "    seed += 1"
   ]
  }
 ],
 "metadata": {
  "kernelspec": {
   "display_name": "Python 3 (ipykernel)",
   "language": "python",
   "name": "python3"
  },
  "language_info": {
   "codemirror_mode": {
    "name": "ipython",
    "version": 3
   },
   "file_extension": ".py",
   "mimetype": "text/x-python",
   "name": "python",
   "nbconvert_exporter": "python",
   "pygments_lexer": "ipython3",
   "version": "3.11.0"
  },
  "vscode": {
   "interpreter": {
    "hash": "74da0d11463147640a4316afec5e99a6a6eb153ba7d9ca6562a169804ac9f9ad"
   }
  }
 },
 "nbformat": 4,
 "nbformat_minor": 5
}
