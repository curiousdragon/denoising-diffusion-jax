{
 "cells": [
  {
   "cell_type": "code",
   "execution_count": 2,
   "metadata": {},
   "outputs": [],
   "source": [
    "import jax.numpy as jnp\n",
    "from jax import grad, jit, vmap\n",
    "from jax import random\n",
    "from jax import Array\n",
    "import jax\n",
    "import numpy as np"
   ]
  },
  {
   "cell_type": "code",
   "execution_count": 3,
   "metadata": {},
   "outputs": [],
   "source": [
    "from jax.config import config\n",
    "config.update(\"jax_debug_nans\", True)\n",
    "config.update(\"jax_array\", True)"
   ]
  },
  {
   "cell_type": "code",
   "execution_count": 4,
   "metadata": {},
   "outputs": [],
   "source": [
    "%matplotlib ipympl\n",
    "import matplotlib.pyplot as plt"
   ]
  },
  {
   "cell_type": "code",
   "execution_count": 5,
   "metadata": {},
   "outputs": [
    {
     "name": "stdout",
     "output_type": "stream",
     "text": [
      "(5, 10)\n",
      "(5, 5)\n",
      "(10, 5)\n"
     ]
    }
   ],
   "source": [
    "def init_layer(key, in_features: int, out_features: int):\n",
    "    w_key, b_key = random.split(key)\n",
    "    bound = np.sqrt(1 / in_features)\n",
    "    weight = random.uniform(w_key, (out_features, in_features), -bound, bound)\n",
    "    bias = random.uniform(b_key, (out_features, ), -bound, bound)\n",
    "    return weight, bias\n",
    "\n",
    "def init_network(key, sizes):\n",
    "    n = len(sizes)\n",
    "    key, *layer_keys = random.split(key, num=n)\n",
    "    network = []\n",
    "    for i in jnp.arange(n - 1):\n",
    "        layer = init_layer(layer_keys[i], sizes[i], sizes[i + 1])\n",
    "        network.append(layer)\n",
    "    return network\n",
    "\n",
    "key = random.PRNGKey(0)\n",
    "key, subkey = random.split(key)\n",
    "network = init_network(subkey, [10, 5, 5, 10])\n",
    "for x in network:\n",
    "    print(x[0].shape)"
   ]
  },
  {
   "cell_type": "code",
   "execution_count": 6,
   "metadata": {},
   "outputs": [],
   "source": [
    "def sigmoid(x: Array):\n",
    "    return 0.5 * (jnp.tanh(x / 2) + 1)\n",
    "\n",
    "def relu(x: Array):\n",
    "    return jnp.maximum(0, x)\n",
    "\n",
    "def predict(network, activation, x):\n",
    "    for weight, bias in network:\n",
    "        x = activation(jnp.dot(weight, x) + bias)\n",
    "    return x\n",
    "\n",
    "t = 3\n",
    "x = jnp.eye(3)\n",
    "xt = jnp.append(x.flatten(), t)\n",
    "# predict(network, relu, xt)"
   ]
  },
  {
   "cell_type": "code",
   "execution_count": 7,
   "metadata": {},
   "outputs": [],
   "source": [
    "from functools import partial"
   ]
  },
  {
   "cell_type": "code",
   "execution_count": 8,
   "metadata": {},
   "outputs": [],
   "source": [
    "@partial(jit, static_argnames=['t'])\n",
    "def forward_diffuse(key, x: Array, t: int, var_schedule: Array):\n",
    "    shape = x.shape\n",
    "    x = x.flatten()\n",
    "    alpha = jnp.prod((1 - var_schedule)[:t])\n",
    "    mean = jnp.dot(jnp.sqrt(alpha), x).flatten()\n",
    "    cov = jnp.dot((1 - alpha), jnp.eye(x.shape[0]))\n",
    "    x = random.multivariate_normal(key, mean, cov)\n",
    "    return x.reshape(shape)\n",
    "\n",
    "def reverse_diffuse_with(mean_fn):\n",
    "    @partial(jit, static_argnames=['t'])\n",
    "    def _reverse_diffuse(key, x: Array, t: int, var_schedule: Array):\n",
    "        shape = x.shape\n",
    "        x = x.flatten()\n",
    "        for t in jnp.flip(jnp.arange(t)):\n",
    "            mean = mean_fn(x, t)\n",
    "            cov = jnp.dot(var_schedule[t], jnp.eye(x.shape[0]))\n",
    "            x = random.multivariate_normal(key, mean, cov)\n",
    "        return x.reshape(shape)\n",
    "    return _reverse_diffuse\n",
    "\n",
    "# example usage of reverse_diffuse_with\n",
    "reverse_diffuse = reverse_diffuse_with(lambda x, t: x)\n",
    "\n",
    "# %timeit forward_diffuse(random.PRNGKey(0), jnp.eye(3), 3, jnp.array([0.1, 0.1, 0.1]))\n",
    "# %timeit reverse_diffuse(random.PRNGKey(0), jnp.eye(3), 3, jnp.array([0.1, 0.1, 0.1]))"
   ]
  },
  {
   "cell_type": "code",
   "execution_count": 9,
   "metadata": {},
   "outputs": [],
   "source": [
    "# for visualizing forward and reverse diffusion\n",
    "n = 4\n",
    "x = jnp.eye(3)\n",
    "var_schedule = jnp.array([0.1, 0.2, 0.5])"
   ]
  },
  {
   "cell_type": "code",
   "execution_count": 10,
   "metadata": {},
   "outputs": [
    {
     "data": {
      "application/vnd.jupyter.widget-view+json": {
       "model_id": "c092bfb9cbb64c0ea653e1fbd07c382f",
       "version_major": 2,
       "version_minor": 0
      },
      "image/png": "[encoded data removed]",
      "text/html": [
       "\n",
       "            <div style=\"display: inline-block;\">\n",
       "                <div class=\"jupyter-widgets widget-label\" style=\"text-align: center;\">\n",
       "                    Figure\n",
       "                </div>\n",
       "                <img src='data:image/png;base64,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' width=900.0/>\n",
       "            </div>\n",
       "        "
      ],
      "text/plain": [
       "Canvas(toolbar=Toolbar(toolitems=[('Home', 'Reset original view', 'home', 'home'), ('Back', 'Back to previous …"
      ]
     },
     "metadata": {},
     "output_type": "display_data"
    }
   ],
   "source": [
    "# forward diffusion\n",
    "_, axs = plt.subplots(nrows=1, ncols=n, figsize=(9, 2))\n",
    "axs[0].imshow(x)\n",
    "for t in jnp.arange(1, n):\n",
    "    key, subkey = random.split(key)\n",
    "    state = forward_diffuse(subkey, x, int(t), var_schedule)\n",
    "    axs[t].imshow(state)"
   ]
  },
  {
   "cell_type": "code",
   "execution_count": 11,
   "metadata": {},
   "outputs": [
    {
     "name": "stdout",
     "output_type": "stream",
     "text": [
      "[[ 1.0642747  -0.12637758  1.298029  ]\n",
      " [-1.3350767  -0.18219376 -0.5478018 ]\n",
      " [-0.36402634  0.9984135   0.38147372]]\n"
     ]
    }
   ],
   "source": [
    "print(state)\n",
    "plt.close()"
   ]
  },
  {
   "cell_type": "code",
   "execution_count": 12,
   "metadata": {},
   "outputs": [
    {
     "data": {
      "application/vnd.jupyter.widget-view+json": {
       "model_id": "e12871a3b0d64cec9270fa1e5933c55d",
       "version_major": 2,
       "version_minor": 0
      },
      "image/png": "[encoded data removed]",
      "text/html": [
       "\n",
       "            <div style=\"display: inline-block;\">\n",
       "                <div class=\"jupyter-widgets widget-label\" style=\"text-align: center;\">\n",
       "                    Figure\n",
       "                </div>\n",
       "                <img src='data:image/png;base64,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' width=900.0/>\n",
       "            </div>\n",
       "        "
      ],
      "text/plain": [
       "Canvas(toolbar=Toolbar(toolitems=[('Home', 'Reset original view', 'home', 'home'), ('Back', 'Back to previous …"
      ]
     },
     "metadata": {},
     "output_type": "display_data"
    }
   ],
   "source": [
    "# reverse diffusion\n",
    "x = state\n",
    "_, axs = plt.subplots(nrows=1, ncols=n, figsize=(9, 2))\n",
    "axs[0].imshow(x)\n",
    "for t in jnp.arange(1, n):\n",
    "    key, subkey = random.split(key)\n",
    "    axs[t].imshow(reverse_diffuse(subkey, x, int(t), var_schedule))"
   ]
  },
  {
   "cell_type": "code",
   "execution_count": 66,
   "metadata": {},
   "outputs": [],
   "source": [
    "@jit\n",
    "def mse_loss(output: Array, target: Array):\n",
    "    D = jnp.prod(jnp.array(target.shape))\n",
    "    error = (target - output)\n",
    "    return jnp.sum((error).dot(error)) / D\n",
    "\n",
    "@partial(jit, static_argnames=['t'])\n",
    "def target_fn(x_init: Array, x: Array, t: int, var_schedule: Array):\n",
    "    \"\"\"\n",
    "    Given (flattened) x_init and x at t, compute the target mean\n",
    "    and target covariance.\n",
    "    \"\"\"\n",
    "    eps = 1e-6\n",
    "    beta_t = var_schedule[t-1]\n",
    "    alpha = jnp.prod((1 - var_schedule)[:t-1])\n",
    "    alpha_t = jnp.dot(alpha, 1 - beta_t)\n",
    "    denom = 1 - alpha_t\n",
    "\n",
    "    mean_init = jnp.dot(jnp.sqrt(alpha) * beta_t / denom, x_init)\n",
    "    mean_t = jnp.dot(jnp.sqrt(alpha_t) * (1 - alpha) / denom, x)\n",
    "\n",
    "    target_mean = mean_init + mean_t\n",
    "    target_cov = jnp.dot((1 - alpha) / denom, jnp.eye(x.shape[0])) + eps\n",
    "\n",
    "    return target_mean, target_cov\n",
    "\n",
    "def kl_divergence_with(output_mean_fn):\n",
    "    \"\"\"\n",
    "    Wrapper to take in the output mean function approximator.\n",
    "    output_mean_fn should take in the (flattened) state x and timestep t,\n",
    "    and compute the output mean.\n",
    "    \"\"\"\n",
    "    @partial(jit, static_argnames=['t'])\n",
    "    def _kl_divergence(x_init: Array, x: Array, t: int, var_schedule: Array):\n",
    "        x_init = x_init.flatten()\n",
    "        x = x.flatten()\n",
    "\n",
    "        output_mean = output_mean_fn(x, t)\n",
    "        output_cov = jnp.dot(var_schedule[t-1], jnp.eye(x.shape[0]))\n",
    "        output_logvar = jnp.log(jnp.diag(output_cov))\n",
    "\n",
    "        target_mean, target_cov = target_fn(x_init, x, t, var_schedule)\n",
    "        target_logvar = jnp.log(jnp.diag(target_cov))\n",
    "\n",
    "        logvar = output_logvar - target_logvar + jnp.exp(target_logvar - output_logvar)\n",
    "        mean = jnp.square(target_mean - output_mean) * jnp.exp(-output_logvar)\n",
    "        return jnp.mean(0.5 * (-1.0 + logvar + mean)) / jnp.log(2.0)\n",
    "    return _kl_divergence"
   ]
  },
  {
   "cell_type": "code",
   "execution_count": 67,
   "metadata": {},
   "outputs": [
    {
     "data": {
      "text/plain": [
       "Array(0.82722723, dtype=float32)"
      ]
     },
     "execution_count": 67,
     "metadata": {},
     "output_type": "execute_result"
    }
   ],
   "source": [
    "kl_divergence = kl_divergence_with(lambda x, t: x)\n",
    "kl_divergence(jnp.zeros((3, 3)), jnp.ones((3, 3)), 3, jnp.array([0.5, 0.5, 0.5]))"
   ]
  },
  {
   "cell_type": "code",
   "execution_count": 68,
   "metadata": {},
   "outputs": [],
   "source": [
    "# setup for training\n",
    "def model_fns(model):\n",
    "    def output_mean_fn(x, t):\n",
    "        return predict(model, relu, jnp.append(x, t))\n",
    "    reverse_diffuse = reverse_diffuse_with(output_mean_fn)\n",
    "    kl_divergence = kl_divergence_with(output_mean_fn)\n",
    "    return output_mean_fn, reverse_diffuse, kl_divergence\n",
    "\n",
    "def loss(key, model, x_init, max_timestep, mse_weight, kl_weight, var_schedule):\n",
    "    _, reverse_diffuse, kl_divergence = model_fns(model)\n",
    "\n",
    "    key, *subkeys = random.split(key, num=4)\n",
    "    t = int(random.uniform(subkeys[0], minval=1, maxval=max_timestep))\n",
    "    x_t = forward_diffuse(subkeys[1], x_init, t, var_schedule)\n",
    "    x_hat = reverse_diffuse(subkeys[2], x_t, t, var_schedule)\n",
    "\n",
    "    mse = mse_loss(x_hat, x_init)\n",
    "    kl = kl_divergence(x_init, x_t, t, var_schedule)\n",
    "    # print(mse, kl)\n",
    "    return mse_weight * mse + kl_weight * kl\n",
    "\n",
    "def update(key, model, x, max_timestep, mse_weight, kl_weight, step_size, var_schedule):\n",
    "    # run gradients from loss through model parameters\n",
    "    grads = grad(loss, argnums=1)(key, model, x, max_timestep, mse_weight, kl_weight, var_schedule)\n",
    "\n",
    "    # loss(key, model, x, max_timestep, mse_weight, kl_weight)\n",
    "\n",
    "    # take a gradient step\n",
    "    step = [(w - step_size * dw, b - step_size * db) for (w, b), (dw, db) in zip(model, grads)]\n",
    "    # print(step)\n",
    "    return step"
   ]
  },
  {
   "cell_type": "code",
   "execution_count": 69,
   "metadata": {},
   "outputs": [],
   "source": [
    "key = random.PRNGKey(0)\n",
    "\n",
    "# hyperparameters to be changed\n",
    "var_schedule = jnp.array([1e-6] * 5)\n",
    "mse_weight = 0.0\n",
    "\n",
    "# these variables depend on the previous ones\n",
    "# and so do not need to be explicitly changed\n",
    "max_timestep = var_schedule.shape[0] + 1\n",
    "kl_weight = 1 - mse_weight\n",
    "\n",
    "# the following model looks like:\n",
    "# [ (w1, b1), (w2, b2) ]\n",
    "# where\n",
    "# layer 1: input 10, output 4\n",
    "# layer 2: input 4, output 9\n",
    "model = init_network(subkey, [10, 4, 9])\n",
    "original_model = model"
   ]
  },
  {
   "cell_type": "code",
   "execution_count": 82,
   "metadata": {},
   "outputs": [
    {
     "name": "stderr",
     "output_type": "stream",
     "text": [
      "100%|██████████| 100/100 [00:33<00:00,  2.96it/s]"
     ]
    },
    {
     "name": "stdout",
     "output_type": "stream",
     "text": [
      "Training took 33.79042935371399 seconds in total\n"
     ]
    },
    {
     "name": "stderr",
     "output_type": "stream",
     "text": [
      "\n"
     ]
    }
   ],
   "source": [
    "# training loop\n",
    "import time\n",
    "from tqdm import tqdm\n",
    "\n",
    "# training_data = [jnp.eye(3)]\n",
    "x_init = jnp.array([[0, 0, 0], [0, 1, 0], [0, 0, 0]])\n",
    "step_size = 0.5\n",
    "\n",
    "num_epochs = 100 # 1000\n",
    "total_time = 0.0\n",
    "for epoch in tqdm(range(num_epochs)):\n",
    "    start_time = time.time()\n",
    "\n",
    "    # for x_init in training_data:\n",
    "    key, subkey = random.split(key)\n",
    "    model = update(subkey, model, x_init, max_timestep, mse_weight, kl_weight, step_size, var_schedule)\n",
    "    # print(mse_loss(x_hat, x_init))\n",
    "\n",
    "    epoch_time = time.time() - start_time\n",
    "    total_time += epoch_time\n",
    "    # print(f\"Epoch {epoch} took {epoch_time} sec\")\n",
    "\n",
    "print(f\"Training took {total_time} seconds in total\")\n",
    "\n",
    "# print()\n",
    "# print(model)"
   ]
  },
  {
   "cell_type": "code",
   "execution_count": 83,
   "metadata": {},
   "outputs": [
    {
     "name": "stdout",
     "output_type": "stream",
     "text": [
      "Sampled timesteps t: 1\n",
      "Loss results:\n",
      "mse: 0.11122234910726547, kl: 78062.7890625\n"
     ]
    },
    {
     "data": {
      "text/plain": [
       "<matplotlib.image.AxesImage at 0x49d7b2290>"
      ]
     },
     "execution_count": 83,
     "metadata": {},
     "output_type": "execute_result"
    },
    {
     "data": {
      "application/vnd.jupyter.widget-view+json": {
       "model_id": "8d5a9d8adc3f45ed907992abf000e1f2",
       "version_major": 2,
       "version_minor": 0
      },
      "image/png": "[encoded data removed]",
      "text/html": [
       "\n",
       "            <div style=\"display: inline-block;\">\n",
       "                <div class=\"jupyter-widgets widget-label\" style=\"text-align: center;\">\n",
       "                    Figure\n",
       "                </div>\n",
       "                <img src='data:image/png;base64,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' width=900.0/>\n",
       "            </div>\n",
       "        "
      ],
      "text/plain": [
       "Canvas(toolbar=Toolbar(toolitems=[('Home', 'Reset original view', 'home', 'home'), ('Back', 'Back to previous …"
      ]
     },
     "metadata": {},
     "output_type": "display_data"
    }
   ],
   "source": [
    "# change the seed to something else if you want different results\n",
    "seed = 0\n",
    "key = random.PRNGKey(seed)\n",
    "\n",
    "output_mean_fn, reverse_diffuse, kl_divergence = model_fns(model)\n",
    "key, *subkeys = random.split(key, num=4)\n",
    "t = int(random.uniform(subkeys[0], minval=1, maxval=max_timestep))\n",
    "print(f\"Sampled timesteps t: {t}\")\n",
    "\n",
    "# choose the starting matrix that we want to learn\n",
    "# note: size of x_init depends on the size of the model\n",
    "# model's initial input size (in_features) is:\n",
    "# size of FLATTENED x_init + 1 (since we append t at the end)\n",
    "x_init = jnp.array([[0, 0, 0], [0, 1, 0], [0, 0, 0]])\n",
    "# x_init = jnp.eye(3)\n",
    "# x_init = random.multivariate_normal(subkey, jnp.zeros(49), jnp.eye(49)).reshape((7, 7))\n",
    "\n",
    "# run the forward and learned reverse process\n",
    "x_t = forward_diffuse(subkeys[1], x_init, t, var_schedule)\n",
    "x_hat = reverse_diffuse(subkeys[2], x_t, t, var_schedule)\n",
    "\n",
    "mse = mse_loss(x_hat, x_init)\n",
    "kl = kl_divergence(x_init, x_t, t, var_schedule)\n",
    "print(f\"Loss results:\\nmse: {mse}, kl: {kl}\")\n",
    "\n",
    "# change n if you want to add more subplots to the plot\n",
    "n = 3\n",
    "\n",
    "_, axs = plt.subplots(nrows=1, ncols=n, figsize=(9, 2))\n",
    "# plot matrices from left to right\n",
    "axs[0].imshow(x_init)\n",
    "axs[1].imshow(x_t)\n",
    "axs[2].imshow(x_hat)"
   ]
  },
  {
   "cell_type": "code",
   "execution_count": 48,
   "metadata": {},
   "outputs": [],
   "source": [
    "# run this every so often if there are too many plots open\n",
    "# \"Figure x\" means there are x plots open\n",
    "# the notebook might complain once x >= 20\n",
    "for _ in jnp.arange(30):\n",
    "    plt.close()"
   ]
  }
 ],
 "metadata": {
  "kernelspec": {
   "display_name": "Python 3.11.0 ('env-proj')",
   "language": "python",
   "name": "python3"
  },
  "language_info": {
   "codemirror_mode": {
    "name": "ipython",
    "version": 3
   },
   "file_extension": ".py",
   "mimetype": "text/x-python",
   "name": "python",
   "nbconvert_exporter": "python",
   "pygments_lexer": "ipython3",
   "version": "3.11.0"
  },
  "orig_nbformat": 4,
  "vscode": {
   "interpreter": {
    "hash": "74da0d11463147640a4316afec5e99a6a6eb153ba7d9ca6562a169804ac9f9ad"
   }
  }
 },
 "nbformat": 4,
 "nbformat_minor": 2
}
