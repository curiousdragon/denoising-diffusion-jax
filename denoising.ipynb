{
 "cells": [
  {
   "cell_type": "markdown",
   "metadata": {},
   "source": [
    "# Training a Reverse Denoising Model "
   ]
  },
  {
   "attachments": {},
   "cell_type": "markdown",
   "metadata": {},
   "source": [
    "## Introduction\n",
    "\n",
    "Now that we've analyzed the forward diffusion process and compared different loss functions,\n",
    "let's now take a look at applying these ideas in training an actual denoising model.\n",
    "By the end of this notebook, we should hopefully have a model that is able to do some kind of denoising\n",
    "on our inputs to see if we can generate new samples - let's see how we do!"
   ]
  },
  {
   "cell_type": "markdown",
   "metadata": {},
   "source": [
    "<img src=\"diagrams/training.png\" width=\"700\">\n",
    "<img src=\"diagrams/sampling.png\" width=\"700\">"
   ]
  },
  {
   "attachments": {},
   "cell_type": "markdown",
   "metadata": {},
   "source": [
    "Figure 1 (left) shows the training procedure where the output from the forward diffusion process is taken as the input by a deep neural net. Parameters $\\theta$ of the deep neural net are updated to produce a predicted distribution $p_\\theta$.\n",
    "\n",
    "Figure 2 (right) shows how the states are sampled from the predicted distribution during the reverse denoising process. \n",
    "\n",
    "We will implement the processes illustrated by the above two figures. "
   ]
  },
  {
   "cell_type": "code",
   "execution_count": 1,
   "metadata": {},
   "outputs": [],
   "source": [
    "%matplotlib widget\n",
    "import matplotlib.pyplot as plt\n",
    "from typing import List, Tuple\n",
    "from tqdm import tqdm\n",
    "import itertools"
   ]
  },
  {
   "cell_type": "code",
   "execution_count": 2,
   "metadata": {},
   "outputs": [],
   "source": [
    "import jax.numpy as jnp\n",
    "from jax import value_and_grad, jit, vmap, random\n",
    "from jax import Array\n",
    "from jax.config import config\n",
    "config.update(\"jax_debug_nans\", True)\n",
    "config.update(\"jax_array\", True)"
   ]
  },
  {
   "attachments": {},
   "cell_type": "markdown",
   "metadata": {},
   "source": [
    "## Building the model\n",
    "\n",
    "We first build the denoising model by initializing a U-Net style linear model.\n",
    "Usually, a U-Net model consists of a contracting path and an expansive path,\n",
    "where the input gets downsampled to smaller dimensions, and then upsampled back to its original dimensions,\n",
    "along with residual connections from the downsampling portion to the upsampling portion.\n",
    "\n",
    "In our case here though, our inputs will be very small: 3 x 3 images to produce\n",
    "inputs of flattened dimension 9.\n",
    "If we were to downsample even further, we may not have enough expressiveness\n",
    "in our model for our purposes.\n",
    "\n",
    "Thus, we'll be adopting an upside-down U-shape structure to build the denoising model.\n",
    "In other words, we'll first upsample the input to larger dimensions,\n",
    "and then downsample back to the size of the original image.\n",
    "This allows us to have more expressiveness due to the much larger amount of parameters available.\n",
    "\n",
    "The following functions set up uniformly random initialization for each layer of the model\n",
    "as well as the entire model itself, which takes in a list of sizes for the dimensions of each of the layers."
   ]
  },
  {
   "cell_type": "code",
   "execution_count": 3,
   "metadata": {},
   "outputs": [],
   "source": [
    "def init_layer(key, in_dims: List[int], out_dim: int) -> List[Array]:\n",
    "    \"\"\"\n",
    "    Initialize weight and bias terms for a layer that takes in inputs with\n",
    "    dimensions in_dims and then outputs values with dimension out_dim.\n",
    "\n",
    "    in_dims: dimensions of the input, i.e. in_dim[0] x 1, in_dim[1] x 1, ...\n",
    "    out_dim: dimension of the output, i.e. out_dim x 1\n",
    "\n",
    "    Return the weight matrices and bias vector for the layer.\n",
    "\n",
    "    weight: out_dim x in_dim[0], out_dim x in_dim[1], ...\n",
    "    bias: out_dim x 1\n",
    "    \"\"\"\n",
    "    b_key, *w_keys = random.split(key, num=len(in_dims) + 1)\n",
    "    weights = []\n",
    "    for w_key, in_dim in zip(w_keys, in_dims):\n",
    "        bound = jnp.sqrt(1 / in_dim)\n",
    "        weight = random.uniform(w_key, (out_dim, in_dim), minval=-bound, maxval=bound)\n",
    "        weights.append(weight)\n",
    "    bias = random.uniform(b_key, (out_dim,), minval=-bound, maxval=bound)\n",
    "    return weights + [bias]\n",
    "\n",
    "\n",
    "def init_unet(key, sizes: List[int]) -> List[List[Array]]:\n",
    "    \"\"\"\n",
    "    Initialize a U-Net style linear model with layer input and output\n",
    "    dimensions from sizes. When sizes is of length N, the resulting model\n",
    "    will contain 2 * (N-1) + 1 layers.\n",
    "\n",
    "    key: random.PRNGKey(seed), used for randomness in initialization.\n",
    "    sizes: list of integers to be used for layer dimension sizes.\n",
    "\n",
    "    Return a list of layer parameters, where each layer is described as a\n",
    "    list of the form: (weight, bias) for layers 1 through N and\n",
    "    (prev_weight, res_weight, bias) for layers (N+1) through (2N-1).\n",
    "    \"\"\"\n",
    "    n = len(sizes)\n",
    "    key, *layer_keys = random.split(key, num=2 * n)\n",
    "\n",
    "    model = []\n",
    "    for i in jnp.arange(n - 1):\n",
    "        # (weight, bias)\n",
    "        layer = init_layer(layer_keys[i], [sizes[i]], sizes[i + 1])\n",
    "        model.append(layer)\n",
    "\n",
    "    # (weight, bias)\n",
    "    layer = init_layer(layer_keys[n - 1], [sizes[n - 1]], sizes[n - 1])\n",
    "    model.append(layer)\n",
    "\n",
    "    for i in jnp.flip(jnp.arange(1, n)):\n",
    "        # (prev_weight, res_weight, bias)\n",
    "        layer = init_layer(\n",
    "            layer_keys[n + i - 1], [sizes[i], sizes[i - 1]], sizes[i - 1]\n",
    "        )\n",
    "        model.append(layer)\n",
    "\n",
    "    return model\n"
   ]
  },
  {
   "attachments": {},
   "cell_type": "markdown",
   "metadata": {},
   "source": [
    "Now try creating a U-Net style model that takes the form:\n",
    "\n",
    "```\n",
    "Layer 0:\n",
    "\tW0: (6, 9)\n",
    "\tb : (6,)\n",
    "Layer 1:\n",
    "\tW0: (4, 6)\n",
    "\tb : (4,)\n",
    "Layer 2:\n",
    "\tW0: (4, 4)\n",
    "\tb : (4,)\n",
    "Layer 3:\n",
    "\tW0: (6, 4)\n",
    "\tW1: (6, 6)\n",
    "\tb : (6,)\n",
    "Layer 4:\n",
    "\tW0: (9, 6)\n",
    "\tW1: (9, 9)\n",
    "\tb : (9,)\n",
    "```\n",
    "\n",
    "where `W0` represents the weight matrix that affects the output of the previous layer,\n",
    "`W1` represents the weight matrix for the residual connection from the correspondingly sized layer,\n",
    "and `b` represents the bias for the layer.\n",
    "\n",
    "**You should pass in the `model_key` and a list of sizes to `init_unet`, and the output of the next cell should look like the description above.**\n",
    "\n",
    "**Hint**:\n",
    "It may help to read *carefully* through the docstring for `init_unet`,\n",
    "as it describes how many layers to expect when you pass in a list of sizes\n",
    "of length `N`."
   ]
  },
  {
   "cell_type": "code",
   "execution_count": 4,
   "metadata": {},
   "outputs": [
    {
     "name": "stdout",
     "output_type": "stream",
     "text": [
      "Layer 0:\n",
      "\tW0: (6, 9)\n",
      "\tb : (6,)\n",
      "Layer 1:\n",
      "\tW0: (4, 6)\n",
      "\tb : (4,)\n",
      "Layer 2:\n",
      "\tW0: (4, 4)\n",
      "\tb : (4,)\n",
      "Layer 3:\n",
      "\tW0: (6, 4)\n",
      "\tW1: (6, 6)\n",
      "\tb : (6,)\n",
      "Layer 4:\n",
      "\tW0: (9, 6)\n",
      "\tW1: (9, 9)\n",
      "\tb : (9,)\n"
     ]
    }
   ],
   "source": [
    "model_key = random.PRNGKey(0)\n",
    "# BEGIN SOLUTION\n",
    "model = init_unet(model_key, [9, 6, 4])\n",
    "# END SOLUTION\n",
    "for i, layer in enumerate(model):\n",
    "    print(f\"Layer {i}:\")\n",
    "    for j, weight in enumerate(layer[:-1]):\n",
    "        print(f\"\\tW{j}: {weight.shape}\")\n",
    "    bias = layer[-1]\n",
    "    print(f\"\\tb : {bias.shape}\")"
   ]
  },
  {
   "attachments": {},
   "cell_type": "markdown",
   "metadata": {},
   "source": [
    "So far, we've only initialized the parameters of a model.\n",
    "How about the activations?\n",
    "\n",
    "Run the following cell to define `sigmoid` and `relu`,\n",
    "which we'll be using for predictions later."
   ]
  },
  {
   "cell_type": "code",
   "execution_count": 5,
   "metadata": {},
   "outputs": [],
   "source": [
    "@jit\n",
    "def sigmoid(x: Array) -> Array:\n",
    "    \"\"\"\n",
    "    Compute the element-wise sigmoid of x.\n",
    "    \"\"\"\n",
    "    return 0.5 * (jnp.tanh(x / 2) + 1)\n",
    "\n",
    "\n",
    "@jit\n",
    "def relu(x: Array) -> Array:\n",
    "    \"\"\"\n",
    "    Compute the element-wise RELU of x.\n",
    "    \"\"\"\n",
    "    return jnp.maximum(0, x)"
   ]
  },
  {
   "attachments": {},
   "cell_type": "markdown",
   "metadata": {},
   "source": [
    "The U-Net model aims to denoise the state at each timestep as a way to approximate the forward denoising process distribution. \n",
    "\n",
    "In the following cell, we'll be defining how the `model` will actually `predict` the noise given `x` and `t`. \n",
    "**Choose either `relu` or `sigmoid` for the `activation` function that will be used in the model's prediction.**\n",
    "\n",
    "Don't worry if you're not sure which one will be more performant,\n",
    "as you can always come back and change it to the other activation function\n",
    "if you'd like to compare their results from training.\n",
    "\n",
    "(Note that for our model, we'll be appending `t` to the end of the flattened state `x` as the input to our network.\n",
    "This is to allow the model to also account for the effects of `t` on its prediction of the noise.\n",
    "At the end of the `predict` function, since we expect the output to be of the same shape as `x`,\n",
    "we'll truncate the output, for ease of implementation.\n",
    "Since we'll be running losses through these outputs later,\n",
    "they should learn to move towards the output we expect.)\n"
   ]
  },
  {
   "cell_type": "code",
   "execution_count": 6,
   "metadata": {},
   "outputs": [],
   "source": [
    "@jit\n",
    "def predict(model: List[List[Array]], x: Array, t: int) -> Array:\n",
    "    \"\"\"\n",
    "    Return the prediction of the U-Net model for given inputs x and t.\n",
    "\n",
    "    model: model used for predicting\n",
    "    x: state at time t\n",
    "    t: number of timesteps\n",
    "    \"\"\"\n",
    "    # BEGIN SOLUTION\n",
    "    activation = relu\n",
    "    # alternatively:\n",
    "    # activation = sigmoid\n",
    "    # END SOLUTION\n",
    "\n",
    "    n = len(model)\n",
    "    mid = n // 2\n",
    "    xt = jnp.append(x, t)\n",
    "\n",
    "    res_xt = []\n",
    "    for i in range(0, mid):\n",
    "        res_xt.append(xt)\n",
    "        weight, bias = model[i]\n",
    "        xt = activation(jnp.dot(weight, xt) + bias)\n",
    "\n",
    "    weight, bias = model[mid]\n",
    "    xt = activation(jnp.dot(weight, xt) + bias)\n",
    "\n",
    "    for i in range(mid + 1, n):\n",
    "        prev_weight, res_weight, bias = model[i]\n",
    "        xt = jnp.dot(prev_weight, xt) + jnp.dot(res_weight, res_xt.pop()) + bias\n",
    "        if i < n - 1:\n",
    "            xt = activation(xt)\n",
    "\n",
    "    return xt[:-1]\n"
   ]
  },
  {
   "cell_type": "markdown",
   "metadata": {},
   "source": [
    "## Training the model"
   ]
  },
  {
   "attachments": {},
   "cell_type": "markdown",
   "metadata": {},
   "source": [
    "The following diagram shows the training process where the output from the forward diffusion process is taken as the input by the deep neural net with parameters $\\theta$.\n",
    "\n",
    "To obtain an accurate predicted distribution $p_\\theta$ for approximating the forward diffusion process distribution $q$, we can train any combination of models that predict the mean $\\mu_\\theta$, the covariance $\\Sigma_\\theta$, and the noise $\\epsilon$.\n",
    "\n",
    "The training loss of the prediction and target is computed to update the neural net parameters. "
   ]
  },
  {
   "cell_type": "markdown",
   "metadata": {},
   "source": [
    "<img src=\"diagrams/training.png\" width=\"1000\">\n"
   ]
  },
  {
   "attachments": {},
   "cell_type": "markdown",
   "metadata": {},
   "source": [
    "So far, we've defined what we need for initializing and then running the model to get predictions.\n",
    "\n",
    "Before we start training, we'll need to define the loss function we'll be using.\n",
    "For our model, we make the design choice to have the variance of the predicted distribution\n",
    "be set to the same variances as were defined in the variance schedule.\n",
    "Thus, the loss can therefore be simplified to look at either the mean or the noise,\n",
    "in the form of an MSE loss.\n",
    "\n",
    "Here we also provide the forward diffusion function that you derived in question 1.\n",
    "This function computes the noisy state $x_t$\n",
    "given initial starting state $x_0$, variance schedule ($\\beta_t$'s),\n",
    "and randomly sampled Gaussian noise $\\epsilon$ to be added to the initial starting state.\n",
    "\n",
    "Both of these functions will be used in our training loop: the loss to run gradients over,\n",
    "and the forward diffusion process to compute $x_t$ to pass into our model."
   ]
  },
  {
   "cell_type": "code",
   "execution_count": 7,
   "metadata": {},
   "outputs": [],
   "source": [
    "@jit\n",
    "def mse_loss(output: Array, target: Array) -> Array:\n",
    "    \"\"\"\n",
    "    Return the MSE (Mean Squared Error) loss between the target and output.\n",
    "    \"\"\"\n",
    "    D = jnp.prod(jnp.array(target.shape))\n",
    "    error = target - output\n",
    "    return jnp.sum((error).dot(error)) / D\n",
    "\n",
    "\n",
    "@jit\n",
    "def forward_diffuse(x_init: Array, t: int, var_schedule: Array, noise: Array) -> Array:\n",
    "    \"\"\"\n",
    "    Compute x from the initial starting state, the given variance schedule,\n",
    "    and the randomly sampled Gaussian noise.\n",
    "\n",
    "    x_init: initial state\n",
    "    t: number of timesteps to run forward diffusion for\n",
    "    var_schedule: variance schedule of length t (timesteps)\n",
    "    noise: randomly sampled Gaussian noise for diffusing x_init\n",
    "\n",
    "    Return value:\n",
    "    x: state after diffusing x_init for t timesteps\n",
    "    \"\"\"\n",
    "    alpha = jnp.cumprod(var_schedule)[t]\n",
    "    return jnp.sqrt(alpha) * x_init + jnp.sqrt(1 - alpha) * noise\n"
   ]
  },
  {
   "attachments": {},
   "cell_type": "markdown",
   "metadata": {},
   "source": [
    "To speed up training, we can vectorize the functions we'll be using to\n",
    "run them on batches of inputs at a time. This is accomplished using JAX's\n",
    "`vmap` function (aka \"vectorizing map`)."
   ]
  },
  {
   "cell_type": "code",
   "execution_count": 8,
   "metadata": {},
   "outputs": [],
   "source": [
    "# vectorize these functions to be able to run batches of inputs\n",
    "batched_predict = vmap(predict, in_axes=(None, 0, 0))\n",
    "batched_mse_loss = vmap(mse_loss, in_axes=(0, 0))\n",
    "batched_forward_diffuse = vmap(forward_diffuse, in_axes=(0, 0, None, 0))"
   ]
  },
  {
   "attachments": {},
   "cell_type": "markdown",
   "metadata": {},
   "source": [
    "What loss function we choose plays a large role in determining what and how our model will learn,\n",
    "and above we defined MSE as the loss we'll be using.\n",
    "\n",
    "But what are we taking the MSE *of* - what do we want the model to actually *learn*?\n",
    "\n",
    "For this implementation,\n",
    "we'll be training on an MSE loss that **compares the actual noise** (added to $x_0$\n",
    "to diffuse to $x_t$) **to the predicted noise from our model.**\n",
    "\n",
    "(You can see in at the end of the `training_loss` function where we're comparing\n",
    "the `output_noise` (from our model) and the `noise` (actual noise used in the forward process)\n",
    "in our `mse_loss` that we defined above.)\n",
    "\n",
    "Since training can take a while when unoptimized,\n",
    "we've also added the `@jit` decorator that `jax`\n",
    "provides to hopefully speed things up a bit -\n",
    "those with deadlines don't always have the chance to be patient after all!"
   ]
  },
  {
   "cell_type": "code",
   "execution_count": 9,
   "metadata": {},
   "outputs": [],
   "source": [
    "@jit\n",
    "def training_loss(\n",
    "    key,\n",
    "    model: List[List[Array]],\n",
    "    x_init: Array,\n",
    "    var_schedule: Array,\n",
    ") -> Array:\n",
    "    \"\"\"\n",
    "    Compute x(t) for every input in the batched x_init, predict the noise,\n",
    "    and return the mean of the loss between predicted and target noise.\n",
    "\n",
    "    key: random.PRNGKey used for seeding randomness\n",
    "    model: parameters of the model to be trained\n",
    "    x_init: batched inputs\n",
    "    var_schedule: variance schedule\n",
    "    \"\"\"\n",
    "    batch_size, n = x_init.shape\n",
    "    t_key, noise_key = random.split(key, num=2)\n",
    "\n",
    "    t = random.uniform(\n",
    "        t_key, shape=(batch_size, 1), minval=0, maxval=len(var_schedule)\n",
    "    ).astype(int)\n",
    "    noise = random.multivariate_normal(\n",
    "        noise_key, jnp.zeros(n), jnp.eye(n), shape=(batch_size,)\n",
    "    )\n",
    "\n",
    "    x = batched_forward_diffuse(x_init, t, var_schedule, noise)\n",
    "    output_noise = batched_predict(model, x, t)\n",
    "    return jnp.mean(batched_mse_loss(output_noise, noise))\n",
    "\n",
    "\n",
    "@jit\n",
    "def update(\n",
    "    key,\n",
    "    model: List[List[Array]],\n",
    "    x_init: Array,\n",
    "    var_schedule: Array,\n",
    "    step_size: float,\n",
    ") -> Tuple[Array, List[List[Array]]]:\n",
    "    \"\"\"\n",
    "    Compute gradient update and return the loss and the updated model.\n",
    "\n",
    "    key: random.PRNGKey used for seeding randomness\n",
    "    model: parameters of the model to be trained\n",
    "    x_init: batched_inputs\n",
    "    var_schedule: variance schedule\n",
    "    step_size: step size of gradient step\n",
    "    \"\"\"\n",
    "    loss, grads = value_and_grad(training_loss, argnums=1)(\n",
    "        key, model, x_init, var_schedule\n",
    "    )\n",
    "\n",
    "    updated_model = []\n",
    "    for parameters, gradients in zip(model, grads):\n",
    "        layer = []\n",
    "        for parameter, gradient in zip(parameters, gradients):\n",
    "            layer.append(parameter - step_size * gradient)\n",
    "        updated_model.append(layer)\n",
    "\n",
    "    return loss, updated_model\n"
   ]
  },
  {
   "attachments": {},
   "cell_type": "markdown",
   "metadata": {},
   "source": [
    "Here we define the dimensions of our input as well as the variance schedule we'll be working with."
   ]
  },
  {
   "cell_type": "code",
   "execution_count": 10,
   "metadata": {},
   "outputs": [
    {
     "name": "stdout",
     "output_type": "stream",
     "text": [
      "[0.4 0.3 0.2 0.1]\n"
     ]
    }
   ],
   "source": [
    "# define input characteristics\n",
    "input_shape = (3, 3)\n",
    "input_dim = int(jnp.prod(jnp.array(input_shape)))\n",
    "var_schedule = jnp.flip(jnp.array([0.1 * i for i in range(1, 5)]))\n",
    "print(var_schedule)"
   ]
  },
  {
   "attachments": {},
   "cell_type": "markdown",
   "metadata": {},
   "source": [
    "For our training data, we'll have the same input each time:\n",
    "a single dot in the middle of a 3 x 3 image.\n",
    "\n",
    "Even though we're passing in the same input, we'll still end up with different\n",
    "and interesting results during each training loop due to the randomness that\n",
    "gets applied when both choosing `t` (the number of timesteps to run diffusion\n",
    "on in the input for) as well as when applying Gaussian noise to each input in\n",
    "the diffusion process."
   ]
  },
  {
   "cell_type": "code",
   "execution_count": 11,
   "metadata": {},
   "outputs": [
    {
     "name": "stdout",
     "output_type": "stream",
     "text": [
      "(100, 9)\n",
      "\n",
      "Example input:\n",
      "[[0 0 0]\n",
      " [0 1 0]\n",
      " [0 0 0]]\n"
     ]
    }
   ],
   "source": [
    "# number of samples\n",
    "n = 100 \n",
    "\n",
    "data = jnp.array([[0, 0, 0], [0, 1, 0], [0, 0, 0]]).flatten()\n",
    "training_data = jnp.repeat(jnp.array([data]), n, axis=0)\n",
    "\n",
    "print(training_data.shape)\n",
    "print()\n",
    "print(f\"Example input:\\n{data.reshape(input_shape)}\")"
   ]
  },
  {
   "attachments": {},
   "cell_type": "markdown",
   "metadata": {},
   "source": [
    "Here we initialize the model that we will be training and\n",
    "set some hyperparameters for the training loop.\n",
    "`step_sizes` here refers to our learning rate over the number of epochs.\n",
    "\n",
    "Note: The input dimension of the model is actually `input_dim + 1` instead of\n",
    "just `input_dim` to account for passing in the number of timesteps `t` as an\n",
    "additional input. See the `predict` model if you'd like a refresher on how that\n",
    "works!"
   ]
  },
  {
   "cell_type": "code",
   "execution_count": 12,
   "metadata": {},
   "outputs": [],
   "source": [
    "# initialize model\n",
    "model_key = random.PRNGKey(1)\n",
    "model = init_unet(model_key, [input_dim + 1, 200, 1000])\n",
    "\n",
    "# hyperparameters to be changed\n",
    "step_sizes = [1.7, 1.5, 1.3]\n",
    "total_epochs = 3000"
   ]
  },
  {
   "attachments": {},
   "cell_type": "markdown",
   "metadata": {},
   "source": [
    "Finally, we're ready to train our denoising model.\n",
    "**Run the cell below to start training!**\n",
    "\n",
    "The training process should be done within a few minutes (hopefully).\n",
    "The current epoch loss will also be shown to the right of the progress bar\n",
    "if you'd like to see live updates of how the loss evolves as our model\n",
    "improves over time."
   ]
  },
  {
   "cell_type": "code",
   "execution_count": 13,
   "metadata": {},
   "outputs": [
    {
     "name": "stderr",
     "output_type": "stream",
     "text": [
      "100%|█████████▉| 2999/3000 [00:26<00:00, 113.73it/s, Loss 0.0002147861523553729] \n"
     ]
    }
   ],
   "source": [
    "training_key = random.PRNGKey(2)\n",
    "\n",
    "# calculated values\n",
    "keys = random.split(training_key, num=total_epochs)\n",
    "epoch_progress = tqdm(\n",
    "    list(itertools.product(step_sizes, range(total_epochs // len(step_sizes))))\n",
    ")\n",
    "\n",
    "epoch_losses = []\n",
    "for subkey, (step_size, _) in zip(keys, epoch_progress):\n",
    "    x = training_data\n",
    "    loss, model = update(subkey, model, x, var_schedule, step_size)\n",
    "\n",
    "    # update tqdm progress bar with current loss\n",
    "    epoch_progress.set_postfix_str(f\"Loss {loss}\")\n",
    "    epoch_losses.append(loss)\n",
    "\n",
    "trained_model = model\n"
   ]
  },
  {
   "cell_type": "code",
   "execution_count": 14,
   "metadata": {},
   "outputs": [
    {
     "name": "stdout",
     "output_type": "stream",
     "text": [
      "Minimum epoch_loss found: 0.00015757196524646133\n",
      "Last loss found: 0.0002147861523553729\n"
     ]
    },
    {
     "data": {
      "application/vnd.jupyter.widget-view+json": {
       "model_id": "6f27505104934407b103e76404e32552",
       "version_major": 2,
       "version_minor": 0
      },
      "image/png": "[encoded data removed]",
      "text/html": [
       "\n",
       "            <div style=\"display: inline-block;\">\n",
       "                <div class=\"jupyter-widgets widget-label\" style=\"text-align: center;\">\n",
       "                    Figure\n",
       "                </div>\n",
       "                <img src='data:image/png;base64,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' width=640.0/>\n",
       "            </div>\n",
       "        "
      ],
      "text/plain": [
       "Canvas(toolbar=Toolbar(toolitems=[('Home', 'Reset original view', 'home', 'home'), ('Back', 'Back to previous …"
      ]
     },
     "metadata": {},
     "output_type": "display_data"
    }
   ],
   "source": [
    "print(f\"Minimum epoch_loss found: {jnp.min(jnp.array(epoch_losses))}\")\n",
    "print(f\"Last loss found: {epoch_losses[-1]}\")\n",
    "\n",
    "for _ in range(20):\n",
    "    # Close any prior plots\n",
    "    plt.close()\n",
    "\n",
    "plt.scatter(range(len(epoch_losses[20:])), epoch_losses[20:], alpha=0.1)\n",
    "plt.show()"
   ]
  },
  {
   "cell_type": "markdown",
   "metadata": {},
   "source": [
    "## Generating Samples"
   ]
  },
  {
   "attachments": {},
   "cell_type": "markdown",
   "metadata": {},
   "source": [
    "The following figure shows how to sample the predicted states for each timestep, based on the predicted reverse process distribution that our model learned in the previous section.\n",
    "\n",
    "For generation, we sample $\\hat{x}_t$ from the standard normal distribution. Otherwise, when taking $x_t$ from the forward process as our $\\hat{x}_t$, we can consider reconstructing $x_{t-1}$, i.e. running the denoising process for a single timestep.\n",
    "\n",
    "Once we have $\\hat{x}_t$, we can then use our trained deep neural net to sample the next state $\\hat{x}_{t-1}$ from our predicted distribution $p_\\theta(\\hat{x}_{t-1}|\\hat{x}_t)$.\n",
    "Repeating this process for some number of timesteps gives us a prediction for $\\hat{x}_0$, which is a generated sample using our model.\n",
    "\n",
    "We can then compare this result with the original input to visualize the denoising process."
   ]
  },
  {
   "cell_type": "markdown",
   "metadata": {},
   "source": [
    "<img src=\"diagrams/sampling.png\" width=\"1000\">"
   ]
  },
  {
   "attachments": {},
   "cell_type": "markdown",
   "metadata": {},
   "source": [
    "Now that we have obtained a model that is able to predict noise,\n",
    "we can use it in our reverse denoising process.\n",
    "\n",
    "We'll consider two main uses in the following code blocks:\n",
    "\n",
    "1. Starting from i.i.d randomly sampled Gaussian noise, generating a new sample\n",
    "   from the original interesting distribution that our model has hopefully\n",
    "   learned. (Since our only input was a single dot, we expect to generate a\n",
    "   sample that also looks like a single dot.)\n",
    "2. Taking some training data $x_{0}$, running the forward process for a *single*\n",
    "   timestep to obtain $x_{1}$ from $x_{0}$. Let's see if we're able to obtain some\n",
    "   reproduction $\\hat{x}_{0}$ similar to the training data input as a result of denoising.\n",
    "\n",
    "Though the main goal of our model is generation,\n",
    "we also consider reconstruction over a *single* timestep as a way of seeing\n",
    "whether the model has successfully learned how to denoise from $x_{t}$ to\n",
    "$x_{t-1}$ (which was the goal of the training loss above)."
   ]
  },
  {
   "cell_type": "code",
   "execution_count": 15,
   "metadata": {},
   "outputs": [],
   "source": [
    "@jit\n",
    "def reverse_diffuse(x: Array, t: int, var_schedule: Array, noise: Array) -> Array:\n",
    "    \"\"\"\n",
    "    Compute x(t-1) from x(t) (the state at t), the given variance schedule,\n",
    "    and the predicted noise.\n",
    "\n",
    "    x: state after diffusing x_init for t timesteps\n",
    "    var_schedule: variance schedule of length t (timesteps)\n",
    "    noise: predicted noise\n",
    "\n",
    "    Return value:\n",
    "    x(t-1): (predicted) previous state\n",
    "    \"\"\"\n",
    "    alpha = jnp.cumprod(var_schedule)[t]\n",
    "    beta = var_schedule[t]\n",
    "    return (x - beta * noise / jnp.sqrt(1 - alpha)) / jnp.sqrt(1 - beta)\n",
    "\n",
    "\n",
    "@jit\n",
    "def generate(\n",
    "    key, x_init: Array, var_schedule: Array, model: List[List[Array]]\n",
    ") -> Array:\n",
    "    x = x_init\n",
    "    subkeys = random.split(key, num=len(var_schedule) - 1)\n",
    "    for key, t in zip(subkeys, jnp.flip(jnp.arange(1, len(var_schedule)))):\n",
    "        # predict noise for denoising\n",
    "        noise = predict(model, x, t)\n",
    "        # reverse diffuse one step\n",
    "        x = reverse_diffuse(x, t, var_schedule, noise)\n",
    "        # sample Gaussian noise for adding more variance\n",
    "        z = random.multivariate_normal(key, jnp.zeros(input_dim), jnp.eye(input_dim))\n",
    "        # add sampled Gaussian noise to x\n",
    "        x = x + jnp.sqrt(var_schedule[t]) * z\n",
    "\n",
    "    # x(1) -> x(0) with no additional Gaussian noise\n",
    "    noise = predict(model, x, 0)\n",
    "    return reverse_diffuse(x, 0, var_schedule, noise)\n"
   ]
  },
  {
   "attachments": {},
   "cell_type": "markdown",
   "metadata": {},
   "source": [
    "We'll again vectorize the functions to enable batch processing and speed things up a bit."
   ]
  },
  {
   "cell_type": "code",
   "execution_count": 16,
   "metadata": {},
   "outputs": [],
   "source": [
    "batched_reshape = vmap(jit(lambda x: x.reshape(input_shape)))\n",
    "batched_generate = vmap(generate, in_axes=(0, 0, None, None))"
   ]
  },
  {
   "cell_type": "code",
   "execution_count": 17,
   "metadata": {},
   "outputs": [],
   "source": [
    "from utils import show_plots"
   ]
  },
  {
   "attachments": {},
   "cell_type": "markdown",
   "metadata": {},
   "source": [
    "We'll consider two inputs:\n",
    "\n",
    "1. `x_init_noise`: i.i.d. randomly sampled Gaussian noise for generation.\n",
    "2. `x_init_diffused`: training data that was forward diffused for *one* timestep."
   ]
  },
  {
   "cell_type": "code",
   "execution_count": 18,
   "metadata": {},
   "outputs": [],
   "source": [
    "num_samples = 5\n",
    "\n",
    "# sample x(t) states to pass into the generator\n",
    "x_key = random.PRNGKey(19)\n",
    "x_init_noise = random.multivariate_normal(\n",
    "    x_key, jnp.zeros(input_dim), jnp.eye(input_dim), shape=(num_samples,)\n",
    ")\n",
    "x_init_diffused = batched_forward_diffuse(\n",
    "    training_data[:num_samples],\n",
    "    jnp.repeat(1, num_samples),\n",
    "    var_schedule[:1],\n",
    "    x_init_noise,\n",
    ")"
   ]
  },
  {
   "attachments": {},
   "cell_type": "markdown",
   "metadata": {},
   "source": [
    "With these inputs, we can now run the denoising process by running `generate`:\n",
    "\n",
    "1. `x_from_noise`: generating new samples from noise.\n",
    "2. `x_from_diffused`: reconstructing the original samples from their one-step diffused states."
   ]
  },
  {
   "cell_type": "code",
   "execution_count": 19,
   "metadata": {},
   "outputs": [],
   "source": [
    "# Let timesteps < length of the variance schedule var_schedule\n",
    "# and represent how many timesteps we want to run the reverse denoising process\n",
    "# for the goal of generation, e.g. x_from_noise.\n",
    "# BEGIN SOLUTION\n",
    "timesteps = 4\n",
    "# END SOLUTION"
   ]
  },
  {
   "cell_type": "code",
   "execution_count": 20,
   "metadata": {},
   "outputs": [],
   "source": [
    "generate_key = random.PRNGKey(20)\n",
    "subkeys = random.split(generate_key, num=num_samples)\n",
    "\n",
    "x_from_noise = batched_generate(\n",
    "    subkeys, x_init_noise, var_schedule[:timesteps], trained_model\n",
    ")\n",
    "x_from_diffused = batched_generate(\n",
    "    subkeys, x_init_diffused, var_schedule[:1], trained_model\n",
    ")"
   ]
  },
  {
   "attachments": {},
   "cell_type": "markdown",
   "metadata": {},
   "source": [
    "Run the following cell to visualize the initial random noise we started with\n",
    "in the first figure, and then the new samples we generated in the second figure."
   ]
  },
  {
   "cell_type": "code",
   "execution_count": 21,
   "metadata": {},
   "outputs": [
    {
     "data": {
      "application/vnd.jupyter.widget-view+json": {
       "model_id": "6cbf0cf12d584d2b86b9fa1b277502cf",
       "version_major": 2,
       "version_minor": 0
      },
      "image/png": "[encoded data removed]",
      "text/html": [
       "\n",
       "            <div style=\"display: inline-block;\">\n",
       "                <div class=\"jupyter-widgets widget-label\" style=\"text-align: center;\">\n",
       "                    Figure\n",
       "                </div>\n",
       "                <img src='data:image/png;base64,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' width=900.0/>\n",
       "            </div>\n",
       "        "
      ],
      "text/plain": [
       "Canvas(toolbar=Toolbar(toolitems=[('Home', 'Reset original view', 'home', 'home'), ('Back', 'Back to previous …"
      ]
     },
     "metadata": {},
     "output_type": "display_data"
    },
    {
     "data": {
      "application/vnd.jupyter.widget-view+json": {
       "model_id": "766305620d6d4f25a8c1706e361fd4c2",
       "version_major": 2,
       "version_minor": 0
      },
      "image/png": "[encoded data removed]",
      "text/html": [
       "\n",
       "            <div style=\"display: inline-block;\">\n",
       "                <div class=\"jupyter-widgets widget-label\" style=\"text-align: center;\">\n",
       "                    Figure\n",
       "                </div>\n",
       "                <img src='data:image/png;base64,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' width=900.0/>\n",
       "            </div>\n",
       "        "
      ],
      "text/plain": [
       "Canvas(toolbar=Toolbar(toolitems=[('Home', 'Reset original view', 'home', 'home'), ('Back', 'Back to previous …"
      ]
     },
     "metadata": {},
     "output_type": "display_data"
    }
   ],
   "source": [
    "show_plots(batched_reshape(x_init_noise), True, \"Gaussian noise (x_t)\")\n",
    "show_plots(batched_reshape(x_from_noise), True, \"Generated (x_0 hat)\")"
   ]
  },
  {
   "attachments": {},
   "cell_type": "markdown",
   "metadata": {},
   "source": [
    "Run the next call to visualize the initial inputs $x_0$,\n",
    "then their one-step diffused versions $x_1$,\n",
    "and finally the reconstructed versions $\\hat{x}_0$."
   ]
  },
  {
   "cell_type": "code",
   "execution_count": 22,
   "metadata": {},
   "outputs": [
    {
     "data": {
      "application/vnd.jupyter.widget-view+json": {
       "model_id": "9aa155010f1c4d43837b26f8e1c5a6bc",
       "version_major": 2,
       "version_minor": 0
      },
      "image/png": "[encoded data removed]",
      "text/html": [
       "\n",
       "            <div style=\"display: inline-block;\">\n",
       "                <div class=\"jupyter-widgets widget-label\" style=\"text-align: center;\">\n",
       "                    Figure\n",
       "                </div>\n",
       "                <img src='data:image/png;base64,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' width=900.0/>\n",
       "            </div>\n",
       "        "
      ],
      "text/plain": [
       "Canvas(toolbar=Toolbar(toolitems=[('Home', 'Reset original view', 'home', 'home'), ('Back', 'Back to previous …"
      ]
     },
     "metadata": {},
     "output_type": "display_data"
    },
    {
     "data": {
      "application/vnd.jupyter.widget-view+json": {
       "model_id": "253124acbca243ec919236ea8280a11d",
       "version_major": 2,
       "version_minor": 0
      },
      "image/png": "[encoded data removed]",
      "text/html": [
       "\n",
       "            <div style=\"display: inline-block;\">\n",
       "                <div class=\"jupyter-widgets widget-label\" style=\"text-align: center;\">\n",
       "                    Figure\n",
       "                </div>\n",
       "                <img src='data:image/png;base64,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' width=900.0/>\n",
       "            </div>\n",
       "        "
      ],
      "text/plain": [
       "Canvas(toolbar=Toolbar(toolitems=[('Home', 'Reset original view', 'home', 'home'), ('Back', 'Back to previous …"
      ]
     },
     "metadata": {},
     "output_type": "display_data"
    },
    {
     "data": {
      "application/vnd.jupyter.widget-view+json": {
       "model_id": "432f0001d27b4e6e8a4ca980f3eb3bab",
       "version_major": 2,
       "version_minor": 0
      },
      "image/png": "[encoded data removed]",
      "text/html": [
       "\n",
       "            <div style=\"display: inline-block;\">\n",
       "                <div class=\"jupyter-widgets widget-label\" style=\"text-align: center;\">\n",
       "                    Figure\n",
       "                </div>\n",
       "                <img src='data:image/png;base64,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' width=900.0/>\n",
       "            </div>\n",
       "        "
      ],
      "text/plain": [
       "Canvas(toolbar=Toolbar(toolitems=[('Home', 'Reset original view', 'home', 'home'), ('Back', 'Back to previous …"
      ]
     },
     "metadata": {},
     "output_type": "display_data"
    }
   ],
   "source": [
    "show_plots(batched_reshape(training_data[:num_samples]), True, \"Initial (x_0)\")\n",
    "show_plots(batched_reshape(x_init_diffused), True, \"Diffused (x_1)\")\n",
    "show_plots(batched_reshape(x_from_diffused), True, \"Denoised (x_0 hat)\")"
   ]
  },
  {
   "cell_type": "code",
   "execution_count": 23,
   "metadata": {},
   "outputs": [],
   "source": [
    "# uncomment and run this if there are too many plots open\n",
    "# \"Figure x\" at the top of the current figure means there are x plots open;\n",
    "# the notebook might complain once x >= 20\n",
    "\n",
    "# for _ in jnp.arange(30):\n",
    "#     plt.close()"
   ]
  },
  {
   "attachments": {},
   "cell_type": "markdown",
   "metadata": {},
   "source": [
    "**Compare the states from the forward process and backward process.**\n",
    "**What do you observe? Note down your observations in the written part of this homework.**\n",
    "\n",
    "Feel free to also try playing around with different choices of `timesteps`\n",
    "for generating `x_from_noise` samples after running the denoising generation\n",
    "process for `timesteps` number of steps."
   ]
  },
  {
   "attachments": {},
   "cell_type": "markdown",
   "metadata": {},
   "source": [
    "## Congrats!\n",
    "\n",
    "You've finished the homework!\n",
    "(Don't forget to also answer the homework processes and study groups question.)\n",
    "\n",
    "We hope you've enjoyed learning about diffusion models with us! :D\n",
    "\n",
    "Have a cat for your troubles:\n",
    "\n",
    "```\n",
    "      |\\      _,,,---,,_\n",
    "ZZZzz /,`.-'`'    -.  ;-;;,_\n",
    "     |,4-  ) )-,_. ,\\ (  `'-'\n",
    "    '---''(_/--'  `-'\\_) \n",
    "```"
   ]
  }
 ],
 "metadata": {
  "kernelspec": {
   "display_name": "Python 3.11.0 ('env-proj')",
   "language": "python",
   "name": "python3"
  },
  "language_info": {
   "codemirror_mode": {
    "name": "ipython",
    "version": 3
   },
   "file_extension": ".py",
   "mimetype": "text/x-python",
   "name": "python",
   "nbconvert_exporter": "python",
   "pygments_lexer": "ipython3",
   "version": "3.11.0"
  },
  "vscode": {
   "interpreter": {
    "hash": "74da0d11463147640a4316afec5e99a6a6eb153ba7d9ca6562a169804ac9f9ad"
   }
  }
 },
 "nbformat": 4,
 "nbformat_minor": 2
}
