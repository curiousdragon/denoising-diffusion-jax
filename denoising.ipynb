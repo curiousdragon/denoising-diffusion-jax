{
 "cells": [
  {
   "cell_type": "markdown",
   "metadata": {},
   "source": [
    "# Training a Reverse Denoising Model "
   ]
  },
  {
   "cell_type": "markdown",
   "metadata": {},
   "source": [
    "## Introduction\n",
    "We have now completed the forward diffusion process and compared the performance of the mean and noise based loss function. It is time to run some training to denoise the noisy output from the forward diffusion process and retrieve the original input. "
   ]
  },
  {
   "cell_type": "code",
   "execution_count": 1,
   "metadata": {},
   "outputs": [],
   "source": [
    "%matplotlib widget\n",
    "import matplotlib.pyplot as plt\n",
    "from typing import List, Tuple\n",
    "from tqdm import tqdm\n",
    "import itertools"
   ]
  },
  {
   "cell_type": "code",
   "execution_count": 2,
   "metadata": {},
   "outputs": [],
   "source": [
    "import jax.numpy as jnp\n",
    "from jax import value_and_grad, jit, vmap, random\n",
    "from jax import Array\n",
    "from jax.config import config\n",
    "config.update(\"jax_debug_nans\", True)\n",
    "config.update(\"jax_array\", True)"
   ]
  },
  {
   "cell_type": "markdown",
   "metadata": {},
   "source": [
    "## Building the denoising model\n",
    "We first build the denoising model by initializing a U-Net style linear model. A U-Net consists of a contracting path and an expansive path. We adopted an upside-down U-shape structure to build the denoising model. The input image we will use has a small dimension, so we first increase the dimension for each layer to increase the expressive power of the model and then decrease the dimension back to the image size. \n",
    "\n",
    "We have implemented the initializer function that takes in the list of input and output dimensions for each layer. \n"
   ]
  },
  {
   "cell_type": "code",
   "execution_count": 3,
   "metadata": {},
   "outputs": [],
   "source": [
    "def init_layer(key, in_dims: List[int], out_dim: int) -> List[Array]:\n",
    "    \"\"\"\n",
    "    Initialize weight and bias terms for a layer that takes in inputs with\n",
    "    dimensions in_dims and then outputs values with dimension out_dim.\n",
    "\n",
    "    in_dims: dimensions of the input, i.e. in_dim[0] x 1, in_dim[1] x 1, ...\n",
    "    out_dim: dimension of the output, i.e. out_dim x 1\n",
    "\n",
    "    Return the weight matrices and bias vector for the layer.\n",
    "\n",
    "    weight: out_dim x in_dim[0], out_dim x in_dim[1], ...\n",
    "    bias: out_dim x 1\n",
    "    \"\"\"\n",
    "    b_key, *w_keys = random.split(key, num=len(in_dims) + 1)\n",
    "    weights = []\n",
    "    for w_key, in_dim in zip(w_keys, in_dims):\n",
    "        bound = jnp.sqrt(1 / in_dim)\n",
    "        weight = random.uniform(w_key, (out_dim, in_dim), minval=-bound, maxval=bound)\n",
    "        weights.append(weight)\n",
    "    bias = random.uniform(b_key, (out_dim,), minval=-bound, maxval=bound)\n",
    "    return weights + [bias]\n",
    "\n",
    "\n",
    "def init_unet(key, sizes: List[int]) -> List[List[Array]]:\n",
    "    \"\"\"\n",
    "    Initialize a U-Net style linear model with layer input and output\n",
    "    dimensions from sizes. When sizes is of length N, the resulting model\n",
    "    will contain 2 * (N-1) + 1 layers.\n",
    "\n",
    "    key: random.PRNGKey(seed), used for randomness in initialization.\n",
    "    sizes: list of integers to be used for layer dimension sizes.\n",
    "\n",
    "    Return a list of layer parameters, where each layer is described as a\n",
    "    list of the form: (weight, bias) for layers 1 through N and\n",
    "    (prev_weight, res_weight, bias) for layers (N+1) through (2N-1).\n",
    "    \"\"\"\n",
    "    n = len(sizes)\n",
    "    key, *layer_keys = random.split(key, num=2 * n)\n",
    "\n",
    "    model = []\n",
    "    for i in jnp.arange(n - 1):\n",
    "        # (weight, bias)\n",
    "        layer = init_layer(layer_keys[i], [sizes[i]], sizes[i + 1])\n",
    "        model.append(layer)\n",
    "\n",
    "    # (weight, bias)\n",
    "    layer = init_layer(layer_keys[n - 1], [sizes[n - 1]], sizes[n - 1])\n",
    "    model.append(layer)\n",
    "\n",
    "    for i in jnp.flip(jnp.arange(1, n)):\n",
    "        # (prev_weight, res_weight, bias)\n",
    "        layer = init_layer(\n",
    "            layer_keys[n + i - 1], [sizes[i], sizes[i - 1]], sizes[i - 1]\n",
    "        )\n",
    "        model.append(layer)\n",
    "\n",
    "    return model\n"
   ]
  },
  {
   "cell_type": "markdown",
   "metadata": {},
   "source": [
    "Use the initializer function to initialize a U-Net model with a list of layers dimensions. "
   ]
  },
  {
   "cell_type": "code",
   "execution_count": 4,
   "metadata": {},
   "outputs": [
    {
     "name": "stdout",
     "output_type": "stream",
     "text": [
      "Layer 0:\n",
      "\tW0: (6, 9)\n",
      "\tb : (6,)\n",
      "Layer 1:\n",
      "\tW0: (4, 6)\n",
      "\tb : (4,)\n",
      "Layer 2:\n",
      "\tW0: (4, 4)\n",
      "\tb : (4,)\n",
      "Layer 3:\n",
      "\tW0: (6, 4)\n",
      "\tW1: (6, 6)\n",
      "\tb : (6,)\n",
      "Layer 4:\n",
      "\tW0: (9, 6)\n",
      "\tW1: (9, 9)\n",
      "\tb : (9,)\n"
     ]
    }
   ],
   "source": [
    "model_key = random.PRNGKey(0)\n",
    "# BEGIN SOLUTION\n",
    "model = init_unet(model_key, [9, 6, 4])\n",
    "# END SOLUTION\n",
    "for i, layer in enumerate(model):\n",
    "    print(f\"Layer {i}:\")\n",
    "    for j, weight in enumerate(layer[:-1]):\n",
    "        print(f\"\\tW{j}: {weight.shape}\")\n",
    "    bias = layer[-1]\n",
    "    print(f\"\\tb : {bias.shape}\")"
   ]
  },
  {
   "cell_type": "markdown",
   "metadata": {},
   "source": [
    "Run the following cell to get two activation functions, Sigmoid and ReLu. "
   ]
  },
  {
   "cell_type": "code",
   "execution_count": 5,
   "metadata": {},
   "outputs": [],
   "source": [
    "@jit\n",
    "def sigmoid(x: Array) -> Array:\n",
    "    \"\"\"\n",
    "    Compute the element-wise sigmoid of x.\n",
    "    \"\"\"\n",
    "    return 0.5 * (jnp.tanh(x / 2) + 1)\n",
    "\n",
    "\n",
    "@jit\n",
    "def relu(x: Array) -> Array:\n",
    "    \"\"\"\n",
    "    Compute the element-wise RELU of x.\n",
    "    \"\"\"\n",
    "    return jnp.maximum(0, x)"
   ]
  },
  {
   "cell_type": "markdown",
   "metadata": {},
   "source": [
    "The U-Net model aims to denoise the state at each of the timesteps as a way to approximate the forward denoising process distribution. \n",
    "Run the following cell to get the predictor function that takes in a list of models, a list of states for each timestep, and the number of timesteps. Choose an activation function to use, ReLu or Sigmoid. "
   ]
  },
  {
   "cell_type": "code",
   "execution_count": 6,
   "metadata": {},
   "outputs": [],
   "source": [
    "@jit\n",
    "def predict(model: List[List[Array]], x: Array, t: int) -> Array:\n",
    "    \"\"\"\n",
    "    Return the prediction of the U-Net model for given inputs x and t.\n",
    "\n",
    "    x: state at time t\n",
    "    t: number of timesteps\n",
    "    \"\"\"\n",
    "    n = len(model)\n",
    "    mid = n // 2\n",
    "    xt = jnp.append(x, t)\n",
    "\n",
    "    res_xt = []\n",
    "    for i in range(0, mid):\n",
    "        res_xt.append(xt)\n",
    "        weight, bias = model[i]\n",
    "        xt = relu(jnp.dot(weight, xt) + bias)\n",
    "        # xt = sigmoid(jnp.dot(weight, xt) + bias)\n",
    "\n",
    "    weight, bias = model[mid]\n",
    "    xt = relu(jnp.dot(weight, xt) + bias)\n",
    "    # xt = sigmoid(jnp.dot(weight, xt) + bias)\n",
    "\n",
    "    for i in range(mid + 1, n):\n",
    "        prev_weight, res_weight, bias = model[i]\n",
    "        xt = jnp.dot(prev_weight, xt) + jnp.dot(res_weight, res_xt.pop()) + bias\n",
    "        if i < n - 1:\n",
    "            xt = relu(xt)\n",
    "            # xt = sigmoid(xt)\n",
    "\n",
    "    return xt[:-1]\n"
   ]
  },
  {
   "cell_type": "markdown",
   "metadata": {},
   "source": [
    "Once we obtain the predicted initial starting state, we can compare the predicted and target states by computing the Mean Squared Error. We also provide the forward diffusion function that computes the noisy state given initial starting state, variance schedule, and randomly sampled Gaussian noise. "
   ]
  },
  {
   "cell_type": "code",
   "execution_count": 7,
   "metadata": {},
   "outputs": [],
   "source": [
    "@jit\n",
    "def mse_loss(output: Array, target: Array) -> Array:\n",
    "    \"\"\"\n",
    "    Return the MSE (Mean Squared Error) loss between the target and output.\n",
    "    \"\"\"\n",
    "    D = jnp.prod(jnp.array(target.shape))\n",
    "    error = target - output\n",
    "    return jnp.sum((error).dot(error)) / D\n",
    "\n",
    "\n",
    "@jit\n",
    "def forward_diffuse(x_init: Array, t: int, var_schedule: Array, noise: Array) -> Array:\n",
    "    \"\"\"\n",
    "    Compute x from the initial starting state, the given variance schedule,\n",
    "    and the randomly sampled Gaussian noise.\n",
    "\n",
    "    x_init: initial state\n",
    "    t: number of timesteps to run forward diffusion for\n",
    "    var_schedule: variance schedule of length t (timesteps)\n",
    "    noise: randomly sampled Gaussian noise for diffusing x_init\n",
    "\n",
    "    Return value:\n",
    "    x: state after diffusing x_init for t timesteps\n",
    "    \"\"\"\n",
    "    alpha = jnp.cumprod(var_schedule)[t]\n",
    "    return jnp.sqrt(alpha) * x_init + jnp.sqrt(1 - alpha) * noise\n"
   ]
  },
  {
   "cell_type": "markdown",
   "metadata": {},
   "source": [
    "Run the following cell to vectorize the predictor, mse_loss, and forward_diffuse functions in order to run batches of inputs. "
   ]
  },
  {
   "cell_type": "code",
   "execution_count": 8,
   "metadata": {},
   "outputs": [],
   "source": [
    "# vectorize these functions to be able to run batches of inputs\n",
    "batched_predict = vmap(predict, in_axes=(None, 0, 0))\n",
    "batched_mse_loss = vmap(mse_loss, in_axes=(0, 0))\n",
    "batched_forward_diffuse = vmap(forward_diffuse, in_axes=(0, 0, None, 0))"
   ]
  },
  {
   "cell_type": "markdown",
   "metadata": {},
   "source": [
    "## Training the Model\n",
    "\n",
    "As we have worked through in Problem 3 Reverse “Denoising” Process, the objective is to obtain a reverse process distribution that approximates the forward diffusion process distribution. Motivated by the KL divergence loss, the loss function can be parameterized to compare the mean of the predicted distribution and the mean of the target distribution. The loss function is further reparameterized to compare the noise instead of the mean. Note that we make a design choice of having the variance of the predicted distribution to be set to the variances defined from the variance schedule. \n",
    "\n",
    "In our implementation, we will use the noise based loss function to train the denoising model. Run the following cell to obtain the training and update functions. \n"
   ]
  },
  {
   "cell_type": "code",
   "execution_count": 9,
   "metadata": {},
   "outputs": [],
   "source": [
    "@jit\n",
    "def training_loss(\n",
    "    key,\n",
    "    model: List[List[Array]],\n",
    "    x_init: Array,\n",
    "    var_schedule: Array,\n",
    ") -> Array:\n",
    "    \"\"\"\n",
    "    Compute x(t) for every input in the batched x_init, predict the noise,\n",
    "    and return the mean of the loss between predicted and target noise.\n",
    "\n",
    "    key: random.PRNGKey used for seeding randomness\n",
    "    model: parameters of the model to be trained\n",
    "    x_init: batched inputs\n",
    "    var_schedule: variance schedule\n",
    "    \"\"\"\n",
    "    batch_size, n = x_init.shape\n",
    "    t_key, noise_key = random.split(key, num=2)\n",
    "\n",
    "    t = random.uniform(\n",
    "        t_key, shape=(batch_size, 1), minval=0, maxval=len(var_schedule)\n",
    "    ).astype(int)\n",
    "    noise = random.multivariate_normal(\n",
    "        noise_key, jnp.zeros(n), jnp.eye(n), shape=(batch_size,)\n",
    "    )\n",
    "\n",
    "    x = batched_forward_diffuse(x_init, t, var_schedule, noise)\n",
    "    output_noise = batched_predict(model, x, t)\n",
    "    return jnp.mean(batched_mse_loss(output_noise, noise))\n",
    "\n",
    "\n",
    "@jit\n",
    "def update(\n",
    "    key,\n",
    "    model: List[List[Array]],\n",
    "    x_init: Array,\n",
    "    var_schedule: Array,\n",
    "    step_size: float,\n",
    ") -> Tuple[Array, List[List[Array]]]:\n",
    "    \"\"\"\n",
    "    Compute gradient update and return the loss and the updated model.\n",
    "\n",
    "    key: random.PRNGKey used for seeding randomness\n",
    "    model: parameters of the model to be trained\n",
    "    x_init: batched_inputs\n",
    "    var_schedule: variance schedule\n",
    "    step_size: step size of gradient step\n",
    "    \"\"\"\n",
    "    loss, grads = value_and_grad(training_loss, argnums=1)(\n",
    "        key, model, x_init, var_schedule\n",
    "    )\n",
    "\n",
    "    updated_model = []\n",
    "    for parameters, gradients in zip(model, grads):\n",
    "        layer = []\n",
    "        for parameter, gradient in zip(parameters, gradients):\n",
    "            layer.append(parameter - step_size * gradient)\n",
    "        updated_model.append(layer)\n",
    "\n",
    "    return loss, updated_model\n"
   ]
  },
  {
   "cell_type": "markdown",
   "metadata": {},
   "source": [
    "Define the input dimensions and variance schedule. \n"
   ]
  },
  {
   "cell_type": "code",
   "execution_count": 10,
   "metadata": {},
   "outputs": [
    {
     "name": "stdout",
     "output_type": "stream",
     "text": [
      "[0.4 0.3 0.2 0.1]\n"
     ]
    }
   ],
   "source": [
    "# define input characteristics\n",
    "input_shape = (3, 3)\n",
    "input_dim = int(jnp.prod(jnp.array(input_shape)))\n",
    "var_schedule = jnp.flip(jnp.array([0.1 * i for i in range(1, 5)]))\n",
    "print(var_schedule)"
   ]
  },
  {
   "cell_type": "markdown",
   "metadata": {},
   "source": [
    "Set the training data to be a single dot image. "
   ]
  },
  {
   "cell_type": "code",
   "execution_count": 11,
   "metadata": {},
   "outputs": [
    {
     "name": "stdout",
     "output_type": "stream",
     "text": [
      "(100, 9)\n",
      "\n",
      "Example input:\n",
      "[[0 0 0]\n",
      " [0 1 0]\n",
      " [0 0 0]]\n"
     ]
    }
   ],
   "source": [
    "# number of samples\n",
    "n = 100 \n",
    "\n",
    "data = jnp.array([[0, 0, 0], [0, 1, 0], [0, 0, 0]]).flatten()\n",
    "training_data = jnp.repeat(jnp.array([data]), n, axis=0)\n",
    "\n",
    "print(training_data.shape)\n",
    "print()\n",
    "print(f\"Example input:\\n{data.reshape(input_shape)}\")"
   ]
  },
  {
   "cell_type": "markdown",
   "metadata": {},
   "source": [
    "Initialize the model and set the hyperparameters.\n"
   ]
  },
  {
   "cell_type": "code",
   "execution_count": 12,
   "metadata": {},
   "outputs": [],
   "source": [
    "# initialize model\n",
    "model_key = random.PRNGKey(1)\n",
    "model = init_unet(model_key, [input_dim + 1, 200, 1000])\n",
    "\n",
    "# hyperparameters to be changed\n",
    "step_sizes = [1.7, 1.5, 1.3]\n",
    "total_epochs = 3000"
   ]
  },
  {
   "cell_type": "markdown",
   "metadata": {},
   "source": [
    "Train the denoising model and plot the losses over epochs. \n"
   ]
  },
  {
   "cell_type": "code",
   "execution_count": 13,
   "metadata": {},
   "outputs": [
    {
     "name": "stderr",
     "output_type": "stream",
     "text": [
      "100%|█████████▉| 2999/3000 [00:53<00:00, 55.70it/s, Loss 0.00021490809740498662]\n"
     ]
    }
   ],
   "source": [
    "training_key = random.PRNGKey(2)\n",
    "\n",
    "# calculated values\n",
    "keys = random.split(training_key, num=total_epochs)\n",
    "epoch_progress = tqdm(\n",
    "    list(itertools.product(step_sizes, range(total_epochs // len(step_sizes))))\n",
    ")\n",
    "\n",
    "epoch_losses = []\n",
    "for subkey, (step_size, _) in zip(keys, epoch_progress):\n",
    "    x = training_data\n",
    "    loss, model = update(subkey, model, x, var_schedule, step_size)\n",
    "\n",
    "    # update tqdm progress bar with current loss\n",
    "    epoch_progress.set_postfix_str(f\"Loss {loss}\")\n",
    "    epoch_losses.append(loss)\n",
    "\n",
    "trained_model = model\n"
   ]
  },
  {
   "cell_type": "code",
   "execution_count": 14,
   "metadata": {},
   "outputs": [
    {
     "name": "stdout",
     "output_type": "stream",
     "text": [
      "Minimum epoch_loss found: 0.00015775758947711438\n",
      "Last loss found: 0.00021490809740498662\n"
     ]
    },
    {
     "data": {
      "application/vnd.jupyter.widget-view+json": {
       "model_id": "70b69b57d0384ce9875cd610450463d0",
       "version_major": 2,
       "version_minor": 0
      },
      "image/png": "[encoded data removed]",
      "text/html": [
       "\n",
       "            <div style=\"display: inline-block;\">\n",
       "                <div class=\"jupyter-widgets widget-label\" style=\"text-align: center;\">\n",
       "                    Figure\n",
       "                </div>\n",
       "                <img src='data:image/png;base64,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' width=640.0/>\n",
       "            </div>\n",
       "        "
      ],
      "text/plain": [
       "Canvas(toolbar=Toolbar(toolitems=[('Home', 'Reset original view', 'home', 'home'), ('Back', 'Back to previous …"
      ]
     },
     "metadata": {},
     "output_type": "display_data"
    }
   ],
   "source": [
    "print(f\"Minimum epoch_loss found: {jnp.min(jnp.array(epoch_losses))}\")\n",
    "print(f\"Last loss found: {epoch_losses[-1]}\")\n",
    "\n",
    "for _ in range(20):\n",
    "    # Close any prior plots\n",
    "    plt.close()\n",
    "\n",
    "plt.scatter(range(len(epoch_losses[20:])), epoch_losses[20:], alpha=0.1)\n",
    "plt.show()"
   ]
  },
  {
   "cell_type": "markdown",
   "metadata": {},
   "source": [
    "## Visualize the states in the reverse denoising process\n",
    "Now that we have obtained the predicted noise, we can use it to visualize the state for each timestep in the reverse denoising process. By generating each state in the forward diffusion process and reverse denoising process, we can see if we are able to retrieve the original input, the single dot image. "
   ]
  },
  {
   "cell_type": "code",
   "execution_count": 15,
   "metadata": {},
   "outputs": [],
   "source": [
    "@jit\n",
    "def reverse_diffuse(x: Array, t: int, var_schedule: Array, noise: Array) -> Array:\n",
    "    \"\"\"\n",
    "    Compute x(t-1) from x(t) (the state at t), the given variance schedule,\n",
    "    and the predicted noise.\n",
    "\n",
    "    x: state after diffusing x_init for t timesteps\n",
    "    var_schedule: variance schedule of length t (timesteps)\n",
    "    noise: predicted noise\n",
    "\n",
    "    Return value:\n",
    "    x(t-1): (predicted) previous state\n",
    "    \"\"\"\n",
    "    alpha = jnp.cumprod(var_schedule)[t]\n",
    "    beta = var_schedule[t]\n",
    "    return (x - beta * noise / jnp.sqrt(1 - alpha)) / jnp.sqrt(1 - beta)\n",
    "\n",
    "\n",
    "@jit\n",
    "def generate(\n",
    "    key, x_init: Array, var_schedule: Array, model: List[List[Array]]\n",
    ") -> Array:\n",
    "    x = x_init\n",
    "    subkeys = random.split(key, num=len(var_schedule) - 1)\n",
    "    for key, t in zip(subkeys, jnp.flip(jnp.arange(1, len(var_schedule)))):\n",
    "        # predict noise for denoising\n",
    "        noise = predict(model, x, t)\n",
    "        # reverse diffuse one step\n",
    "        x = reverse_diffuse(x, t, var_schedule, noise)\n",
    "        # sample Gaussian noise for adding more variance\n",
    "        z = random.multivariate_normal(key, jnp.zeros(input_dim), jnp.eye(input_dim))\n",
    "        # add sampled Gaussian noise to x\n",
    "        x = x + jnp.sqrt(var_schedule[t]) * z\n",
    "\n",
    "    # x(1) -> x(0) with no additional Gaussian noise\n",
    "    noise = predict(model, x, 0)\n",
    "    return reverse_diffuse(x, 0, var_schedule, noise)\n"
   ]
  },
  {
   "cell_type": "markdown",
   "metadata": {},
   "source": [
    "Again, vectorize the functions to enable batch processing. \n"
   ]
  },
  {
   "cell_type": "code",
   "execution_count": 16,
   "metadata": {},
   "outputs": [],
   "source": [
    "batched_reshape = vmap(jit(lambda x: x.reshape(input_shape)))\n",
    "batched_generate = vmap(generate, in_axes=(0, 0, None, None))"
   ]
  },
  {
   "cell_type": "markdown",
   "metadata": {},
   "source": [
    "### Visualize the States"
   ]
  },
  {
   "cell_type": "code",
   "execution_count": 17,
   "metadata": {},
   "outputs": [],
   "source": [
    "from utils import show_plots"
   ]
  },
  {
   "cell_type": "markdown",
   "metadata": {},
   "source": [
    "Sample the noise that is added to the input during the forward diffusion process. \n",
    "Obtain the diffused state at each time step. "
   ]
  },
  {
   "cell_type": "code",
   "execution_count": 18,
   "metadata": {},
   "outputs": [],
   "source": [
    "num_samples = 5\n",
    "\n",
    "# sample x(t) states to pass into the generator\n",
    "x_key = random.PRNGKey(19)\n",
    "x_init_noise = random.multivariate_normal(\n",
    "    x_key, jnp.zeros(input_dim), jnp.eye(input_dim), shape=(num_samples,)\n",
    ")\n",
    "x_init_diffused = batched_forward_diffuse(\n",
    "    training_data[:num_samples],\n",
    "    jnp.repeat(1, num_samples),\n",
    "    var_schedule[:1],\n",
    "    x_init_noise,\n",
    ")"
   ]
  },
  {
   "cell_type": "markdown",
   "metadata": {},
   "source": [
    "Generate the predicted noise and the predicted diffused states. \n"
   ]
  },
  {
   "cell_type": "code",
   "execution_count": 19,
   "metadata": {},
   "outputs": [],
   "source": [
    "generate_key = random.PRNGKey(20)\n",
    "subkeys = random.split(generate_key, num=num_samples)\n",
    "\n",
    "x_from_noise = batched_generate(\n",
    "    subkeys, x_init_noise, var_schedule[:1], trained_model\n",
    ")\n",
    "x_from_diffused = batched_generate(\n",
    "    subkeys, x_init_diffused, var_schedule[:1], trained_model\n",
    ")"
   ]
  },
  {
   "cell_type": "markdown",
   "metadata": {},
   "source": [
    "Run the following cells to show the visualizations. \n"
   ]
  },
  {
   "cell_type": "code",
   "execution_count": 20,
   "metadata": {},
   "outputs": [
    {
     "data": {
      "application/vnd.jupyter.widget-view+json": {
       "model_id": "e10f54755b524b929dca5af7889935d3",
       "version_major": 2,
       "version_minor": 0
      },
      "image/png": "[encoded data removed]",
      "text/html": [
       "\n",
       "            <div style=\"display: inline-block;\">\n",
       "                <div class=\"jupyter-widgets widget-label\" style=\"text-align: center;\">\n",
       "                    Figure\n",
       "                </div>\n",
       "                <img src='data:image/png;base64,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' width=900.0/>\n",
       "            </div>\n",
       "        "
      ],
      "text/plain": [
       "Canvas(toolbar=Toolbar(toolitems=[('Home', 'Reset original view', 'home', 'home'), ('Back', 'Back to previous …"
      ]
     },
     "metadata": {},
     "output_type": "display_data"
    },
    {
     "data": {
      "application/vnd.jupyter.widget-view+json": {
       "model_id": "8b590a68f823483da5c111d5a5c0e7e1",
       "version_major": 2,
       "version_minor": 0
      },
      "image/png": "[encoded data removed]",
      "text/html": [
       "\n",
       "            <div style=\"display: inline-block;\">\n",
       "                <div class=\"jupyter-widgets widget-label\" style=\"text-align: center;\">\n",
       "                    Figure\n",
       "                </div>\n",
       "                <img src='data:image/png;base64,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' width=900.0/>\n",
       "            </div>\n",
       "        "
      ],
      "text/plain": [
       "Canvas(toolbar=Toolbar(toolitems=[('Home', 'Reset original view', 'home', 'home'), ('Back', 'Back to previous …"
      ]
     },
     "metadata": {},
     "output_type": "display_data"
    }
   ],
   "source": [
    "show_plots(batched_reshape(x_init_noise), standard=True)\n",
    "show_plots(batched_reshape(x_from_noise), standard=True)"
   ]
  },
  {
   "cell_type": "code",
   "execution_count": 21,
   "metadata": {},
   "outputs": [
    {
     "data": {
      "application/vnd.jupyter.widget-view+json": {
       "model_id": "9f1e1ec515e64dcc8c3437e576e292cc",
       "version_major": 2,
       "version_minor": 0
      },
      "image/png": "[encoded data removed]",
      "text/html": [
       "\n",
       "            <div style=\"display: inline-block;\">\n",
       "                <div class=\"jupyter-widgets widget-label\" style=\"text-align: center;\">\n",
       "                    Figure\n",
       "                </div>\n",
       "                <img src='data:image/png;base64,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' width=900.0/>\n",
       "            </div>\n",
       "        "
      ],
      "text/plain": [
       "Canvas(toolbar=Toolbar(toolitems=[('Home', 'Reset original view', 'home', 'home'), ('Back', 'Back to previous …"
      ]
     },
     "metadata": {},
     "output_type": "display_data"
    },
    {
     "data": {
      "application/vnd.jupyter.widget-view+json": {
       "model_id": "b214d3a4ad924fcdba9edc5e459505d6",
       "version_major": 2,
       "version_minor": 0
      },
      "image/png": "[encoded data removed]",
      "text/html": [
       "\n",
       "            <div style=\"display: inline-block;\">\n",
       "                <div class=\"jupyter-widgets widget-label\" style=\"text-align: center;\">\n",
       "                    Figure\n",
       "                </div>\n",
       "                <img src='data:image/png;base64,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' width=900.0/>\n",
       "            </div>\n",
       "        "
      ],
      "text/plain": [
       "Canvas(toolbar=Toolbar(toolitems=[('Home', 'Reset original view', 'home', 'home'), ('Back', 'Back to previous …"
      ]
     },
     "metadata": {},
     "output_type": "display_data"
    },
    {
     "data": {
      "application/vnd.jupyter.widget-view+json": {
       "model_id": "81e2c990895343358e526c738a8ecae7",
       "version_major": 2,
       "version_minor": 0
      },
      "image/png": "[encoded data removed]",
      "text/html": [
       "\n",
       "            <div style=\"display: inline-block;\">\n",
       "                <div class=\"jupyter-widgets widget-label\" style=\"text-align: center;\">\n",
       "                    Figure\n",
       "                </div>\n",
       "                <img src='data:image/png;base64,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' width=900.0/>\n",
       "            </div>\n",
       "        "
      ],
      "text/plain": [
       "Canvas(toolbar=Toolbar(toolitems=[('Home', 'Reset original view', 'home', 'home'), ('Back', 'Back to previous …"
      ]
     },
     "metadata": {},
     "output_type": "display_data"
    }
   ],
   "source": [
    "show_plots(batched_reshape(training_data[:num_samples]), standard=True)\n",
    "show_plots(batched_reshape(x_init_diffused), standard=True)\n",
    "show_plots(batched_reshape(x_from_diffused), standard=True)"
   ]
  },
  {
   "cell_type": "code",
   "execution_count": 28,
   "metadata": {},
   "outputs": [],
   "source": [
    "# uncomment and run this if there are too many plots open\n",
    "# \"Figure x\" at the top of the current figure means there are x plots open;\n",
    "# the notebook might complain once x >= 20\n",
    "\n",
    "# for _ in jnp.arange(30):\n",
    "#     plt.close()"
   ]
  },
  {
   "cell_type": "markdown",
   "metadata": {},
   "source": [
    "### Compare the states from the forward process and backward process. Comment on what you observe. "
   ]
  },
  {
   "cell_type": "markdown",
   "metadata": {},
   "source": []
  }
 ],
 "metadata": {
  "kernelspec": {
   "display_name": "Python 3.10.8 ('env-proj')",
   "language": "python",
   "name": "python3"
  },
  "language_info": {
   "codemirror_mode": {
    "name": "ipython",
    "version": 3
   },
   "file_extension": ".py",
   "mimetype": "text/x-python",
   "name": "python",
   "nbconvert_exporter": "python",
   "pygments_lexer": "ipython3",
   "version": "3.10.8"
  },
  "vscode": {
   "interpreter": {
    "hash": "eab3f2eda3ce4924f91bc41349499bb49ff66305866b74c879553a2626652e92"
   }
  }
 },
 "nbformat": 4,
 "nbformat_minor": 2
}
