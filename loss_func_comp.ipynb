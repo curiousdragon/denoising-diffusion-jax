{
 "cells": [
  {
   "cell_type": "markdown",
   "id": "5c3936ef",
   "metadata": {},
   "source": [
    "# Introduction\n",
    "While the mean loss and the noise loss functions should in theory optimize to the same parameters in the diffusion network, in practice, it's important to consider the advantages and drawbacks of these functions like computational cost, accuracy, etc. In this problem, we explore the computational costs of the mean loss and the noise loss. "
   ]
  },
  {
   "cell_type": "markdown",
   "id": "464eda12",
   "metadata": {},
   "source": [
    "# Library imports\n",
    "Before you begin, make sure you have the following libraries installed."
   ]
  },
  {
   "cell_type": "code",
   "execution_count": null,
   "id": "9d046225",
   "metadata": {},
   "outputs": [],
   "source": [
    "import jax.numpy as jnp\n",
    "from jax import random"
   ]
  },
  {
   "cell_type": "markdown",
   "id": "e9e08193",
   "metadata": {},
   "source": [
    "# Part A: Implementing the Loss Functions\n",
    "Implement the mean and noise loss functions as specified in the homework."
   ]
  },
  {
   "cell_type": "code",
   "execution_count": null,
   "id": "41fe9dd4",
   "metadata": {},
   "outputs": [],
   "source": [
    "def mean_loss(sigma_t, alpha_ts, mu_pred, x_0, x_t):\n",
    "    error = 0\n",
    "    # BEGIN SOLUTION\n",
    "    \n",
    "    # END SOLUTION\n",
    "    return error\n",
    "\n",
    "\n",
    "def noise_loss(sigma_t, alpha_ts, eps_pred, x_0, x_t, eps):\n",
    "    error = 0\n",
    "    # BEGIN SOLUTION\n",
    "    \n",
    "    # END SOLUTION\n",
    "    return error\n"
   ]
  },
  {
   "cell_type": "markdown",
   "id": "9decd269",
   "metadata": {},
   "source": [
    "## Sanity Check\n",
    "Run the cell below to test the correctness of your solution."
   ]
  },
  {
   "cell_type": "code",
   "execution_count": null,
   "id": "909c07db",
   "metadata": {},
   "outputs": [],
   "source": [
    "from test_cases import run_mean_loss_tests, run_noise_loss_tests\n",
    "run_mean_loss_tests(mean_loss)\n",
    "run_noise_loss_tests(noise_loss)"
   ]
  },
  {
   "cell_type": "markdown",
   "id": "b916c24c",
   "metadata": {},
   "source": [
    "# Part B: Comparing the Speeds of the Loss Functions\n",
    "After you've implemented the two loss functions, run the cell below."
   ]
  },
  {
   "cell_type": "code",
   "execution_count": null,
   "id": "14f0dacd",
   "metadata": {
    "scrolled": true
   },
   "outputs": [],
   "source": [
    "seed = 0\n",
    "for D in range(2, 1000, 200):\n",
    "    key = random.PRNGKey(seed)\n",
    "    s_key, a_key, mu_key, e0_key, e1_key, x0_key, xt_key = random.split(key, num=7)\n",
    "    sigma_t = random.uniform(s_key)\n",
    "    alpha_ts = random.uniform(a_key, (D,))\n",
    "    mu_pred = random.uniform(mu_key, (D,))\n",
    "    eps_pred = random.uniform(e0_key, (D,))\n",
    "    eps = random.uniform(e1_key, (D,))\n",
    "    x_0 = random.uniform(x0_key, (D,))\n",
    "    x_t = random.uniform(xt_key, (D,))\n",
    "    print(\"Mean Loss, D = \" + str(D))\n",
    "    %time mean_loss(sigma_t, alpha_ts, mu_pred, x_0, x_t)\n",
    "    print(\"Noise Loss, D = \" + str(D))\n",
    "    %time noise_loss(sigma_t, alpha_ts, eps_pred, x_0, x_t, eps)\n",
    "    print(\"\\n\")\n",
    "    seed += 1"
   ]
  }
 ],
 "metadata": {
  "kernelspec": {
   "display_name": "Python 3 (ipykernel)",
   "language": "python",
   "name": "python3"
  },
  "language_info": {
   "codemirror_mode": {
    "name": "ipython",
    "version": 3
   },
   "file_extension": ".py",
   "mimetype": "text/x-python",
   "name": "python",
   "nbconvert_exporter": "python",
   "pygments_lexer": "ipython3",
   "version": "3.11.0"
  },
  "vscode": {
   "interpreter": {
    "hash": "74da0d11463147640a4316afec5e99a6a6eb153ba7d9ca6562a169804ac9f9ad"
   }
  }
 },
 "nbformat": 4,
 "nbformat_minor": 5
}
