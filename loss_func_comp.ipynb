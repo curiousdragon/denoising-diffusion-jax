{
 "cells": [
  {
   "cell_type": "markdown",
   "id": "5c3936ef",
   "metadata": {},
   "source": [
    "# Introduction\n",
    "While the mean loss and the noise loss functions should in theory optimize to the same parameters in the diffusion network, in practice, it's important to consider the advantages and drawbacks of these functions like computational cost, accuracy, etc. In this problem, we explore the computational costs of the mean loss and the noise loss. "
   ]
  },
  {
   "cell_type": "markdown",
   "id": "464eda12",
   "metadata": {},
   "source": [
    "# Library imports\n",
    "Before you begin, make sure you have the following libraries installed."
   ]
  },
  {
   "cell_type": "code",
   "execution_count": 1,
   "id": "9d046225",
   "metadata": {},
   "outputs": [],
   "source": [
    "import jax.numpy as jnp\n",
    "from jax import random\n",
    "from jax import jit"
   ]
  },
  {
   "cell_type": "markdown",
   "id": "e9e08193",
   "metadata": {},
   "source": [
    "# Part A: Implementing the Loss Functions\n",
    "Implement the mean and noise loss functions as specified in the homework."
   ]
  },
  {
   "cell_type": "code",
   "execution_count": 2,
   "id": "41fe9dd4",
   "metadata": {},
   "outputs": [],
   "source": [
    "def mean_loss(sigma_t, alpha_ts, mu_pred, x_0, x_t):\n",
    "    error = 0\n",
    "    # BEGIN SOLUTION\n",
    "    \n",
    "    # END SOLUTION\n",
    "    return error\n",
    "\n",
    "\n",
    "def noise_loss(sigma_t, alpha_ts, eps_pred, x_0, x_t, eps):\n",
    "    error = 0\n",
    "    # BEGIN SOLUTION\n",
    "    \n",
    "    # END SOLUTION\n",
    "    return error\n"
   ]
  },
  {
   "cell_type": "markdown",
   "id": "9decd269",
   "metadata": {},
   "source": [
    "## Sanity Check\n",
    "Run the cell below to test the correctness of your solution."
   ]
  },
  {
   "cell_type": "code",
   "execution_count": 3,
   "id": "909c07db",
   "metadata": {},
   "outputs": [
    {
     "name": "stdout",
     "output_type": "stream",
     "text": [
      "Mean loss: Average difference between expected and actual: 0.0\n",
      "Mean loss: Result vs threshold: 0.0 < 1e-05\n",
      "Mean loss test passed! :)\n",
      "\n",
      "Noise loss: Average difference between expected and actual: 0.0\n",
      "Noise loss: Result vs threshold: 0.0 < 1e-05\n",
      "Noise loss test passed! :)\n",
      "\n"
     ]
    }
   ],
   "source": [
    "from test_cases import run_mean_loss_tests, run_noise_loss_tests\n",
    "run_mean_loss_tests(mean_loss)\n",
    "run_noise_loss_tests(noise_loss)"
   ]
  },
  {
   "cell_type": "markdown",
   "id": "b916c24c",
   "metadata": {},
   "source": [
    "# Part B: Comparing the Speeds of the Loss Functions\n",
    "After you've implemented the two loss functions, run the cell below."
   ]
  },
  {
   "cell_type": "code",
   "execution_count": 4,
   "id": "14f0dacd",
   "metadata": {
    "scrolled": true
   },
   "outputs": [
    {
     "name": "stdout",
     "output_type": "stream",
     "text": [
      "Mean Loss, D = 2\n",
      "CPU times: user 114 ms, sys: 2.97 ms, total: 117 ms\n",
      "Wall time: 123 ms\n",
      "Noise Loss, D = 2\n",
      "CPU times: user 2.03 ms, sys: 2 µs, total: 2.03 ms\n",
      "Wall time: 2.04 ms\n",
      "\n",
      "\n",
      "Mean Loss, D = 102\n",
      "CPU times: user 120 ms, sys: 4.24 ms, total: 124 ms\n",
      "Wall time: 136 ms\n",
      "Noise Loss, D = 102\n",
      "CPU times: user 1.88 ms, sys: 16 µs, total: 1.89 ms\n",
      "Wall time: 1.93 ms\n",
      "\n",
      "\n",
      "Mean Loss, D = 202\n",
      "CPU times: user 120 ms, sys: 3.22 ms, total: 124 ms\n",
      "Wall time: 133 ms\n",
      "Noise Loss, D = 202\n",
      "CPU times: user 4.03 ms, sys: 213 µs, total: 4.24 ms\n",
      "Wall time: 11.9 ms\n",
      "\n",
      "\n",
      "Mean Loss, D = 302\n",
      "CPU times: user 161 ms, sys: 6.37 ms, total: 167 ms\n",
      "Wall time: 234 ms\n",
      "Noise Loss, D = 302\n",
      "CPU times: user 5.24 ms, sys: 472 µs, total: 5.72 ms\n",
      "Wall time: 9.32 ms\n",
      "\n",
      "\n",
      "Mean Loss, D = 402\n",
      "CPU times: user 170 ms, sys: 6.67 ms, total: 177 ms\n",
      "Wall time: 212 ms\n",
      "Noise Loss, D = 402\n",
      "CPU times: user 5.34 ms, sys: 339 µs, total: 5.68 ms\n",
      "Wall time: 9.75 ms\n",
      "\n",
      "\n",
      "Mean Loss, D = 502\n",
      "CPU times: user 129 ms, sys: 4.02 ms, total: 133 ms\n",
      "Wall time: 139 ms\n",
      "Noise Loss, D = 502\n",
      "CPU times: user 1.96 ms, sys: 86 µs, total: 2.04 ms\n",
      "Wall time: 2.07 ms\n",
      "\n",
      "\n",
      "Mean Loss, D = 602\n",
      "CPU times: user 148 ms, sys: 4.98 ms, total: 153 ms\n",
      "Wall time: 178 ms\n",
      "Noise Loss, D = 602\n",
      "CPU times: user 2.47 ms, sys: 58 µs, total: 2.53 ms\n",
      "Wall time: 2.74 ms\n",
      "\n",
      "\n",
      "Mean Loss, D = 702\n",
      "CPU times: user 159 ms, sys: 5.51 ms, total: 164 ms\n",
      "Wall time: 208 ms\n",
      "Noise Loss, D = 702\n",
      "CPU times: user 1.76 ms, sys: 127 µs, total: 1.88 ms\n",
      "Wall time: 1.82 ms\n",
      "\n",
      "\n",
      "Mean Loss, D = 802\n",
      "CPU times: user 188 ms, sys: 8.18 ms, total: 196 ms\n",
      "Wall time: 298 ms\n",
      "Noise Loss, D = 802\n",
      "CPU times: user 1.89 ms, sys: 158 µs, total: 2.05 ms\n",
      "Wall time: 2.05 ms\n",
      "\n",
      "\n",
      "Mean Loss, D = 902\n",
      "CPU times: user 128 ms, sys: 3.55 ms, total: 131 ms\n",
      "Wall time: 140 ms\n",
      "Noise Loss, D = 902\n",
      "CPU times: user 1.62 ms, sys: 42 µs, total: 1.67 ms\n",
      "Wall time: 1.71 ms\n",
      "\n",
      "\n"
     ]
    }
   ],
   "source": [
    "seed = 0\n",
    "for D in range(2, 1000, 200):\n",
    "    key = random.PRNGKey(0)\n",
    "    s_key, a_key, mu_key, e0_key, e1_key, x0_key, xt_key = random.split(key, num=7)\n",
    "    sigma_t = random.uniform(s_key)\n",
    "    alpha_ts = random.uniform(a_key, (D,))\n",
    "    mu_pred = random.uniform(mu_key, (D,))\n",
    "    eps_pred = random.uniform(e0_key, (D,))\n",
    "    eps = random.uniform(e1_key, (D,))\n",
    "    x_0 = random.uniform(x0_key, (D,))\n",
    "    x_t = random.uniform(xt_key, (D,))\n",
    "    print(\"Mean Loss, D = \" + str(D))\n",
    "    %time mean_loss(sigma_t, alpha_ts, mu_pred, x_0, x_t)\n",
    "    print(\"Noise Loss, D = \" + str(D))\n",
    "    %time noise_loss(sigma_t, alpha_ts, eps_pred, x_0, x_t, eps)\n",
    "    print(\"\\n\")\n",
    "    seed += 1"
   ]
  },
  {
   "cell_type": "code",
   "execution_count": null,
   "id": "cf1f5287",
   "metadata": {},
   "outputs": [],
   "source": []
  }
 ],
 "metadata": {
  "kernelspec": {
   "display_name": "Python 3 (ipykernel)",
   "language": "python",
   "name": "python3"
  },
  "language_info": {
   "codemirror_mode": {
    "name": "ipython",
    "version": 3
   },
   "file_extension": ".py",
   "mimetype": "text/x-python",
   "name": "python",
   "nbconvert_exporter": "python",
   "pygments_lexer": "ipython3",
   "version": "3.10.8"
  },
  "vscode": {
   "interpreter": {
    "hash": "74da0d11463147640a4316afec5e99a6a6eb153ba7d9ca6562a169804ac9f9ad"
   }
  }
 },
 "nbformat": 4,
 "nbformat_minor": 5
}
